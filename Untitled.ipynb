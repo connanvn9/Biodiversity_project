{
 "cells": [
  {
   "cell_type": "markdown",
   "metadata": {},
   "source": [
    "# Introduction\n",
    "\n",
    "The goal of this project is to analyze biodiversity data from the National Parks Service, particularly around various species observed in different national park locations.\n",
    "\n",
    "This project will scope, analyze, prepare, plot data, and seek to explain the findings from the analysis.\n",
    "\n",
    "A few questions that this project that I want to answer:\n",
    "\n",
    "- What is the distribution of conservation status for species?\n",
    "- Are certain types of species more likely to be endangered?\n",
    "- Are the differences between species and their conservation status significant?\n",
    "- Which animal and plant are most prevalent and what are their distribution amongst parks?\n",
    "\n",
    "**Data sources:**\n",
    "\n",
    "Both `Observations.csv` and `Species_info.csv` was provided by [Codecademy.com](https://www.codecademy.com).\n",
    "\n",
    "Note: The data for this project is *inspired* by real data, but is mostly fictional."
   ]
  },
  {
   "cell_type": "markdown",
   "metadata": {},
   "source": [
    "# Scoping\n",
    "\n",
    "\n",
    "### Project Goals\n",
    "\n",
    "In this project the perspective will be through a biodiversity analyst for the National Parks Service. The National Park Service wants to ensure the survival of at-risk species, to maintain the level of biodiversity within their parks. Therefore, the main objectives as an analyst will be understanding characteristics about the species and their conservations status, and those species and their relationship to the national parks. Some questions that are posed:\n",
    "\n",
    "- What is the distribution of conservation status for species?\n",
    "- Are certain types of species more likely to be endangered?\n",
    "- Are the differences between species and their conservation status significant?\n",
    "- Which animal and plant are most prevalent and what are their distribution amongst parks?\n",
    "\n",
    "### Data\n",
    "\n",
    "This project has two data sets that came with the package. The first `csv` file has information about each species and another has observations of species with park locations. This data will be used to analyze the goals of the project. \n",
    "\n",
    "### Analysis\n",
    "\n",
    "In this section, descriptive statistics and data visualization techniques will be employed to understand the data better. Statistical inference will also be used to test if the observed values are statistically significant. Some of the key metrics that will be computed include: \n",
    "\n",
    "1. Distributions\n",
    "1. counts\n",
    "1. relationship between species\n",
    "1. conservation status of species\n",
    "1. observations of species in parks. \n",
    "\n",
    "### Evaluation\n",
    "\n",
    "Lastly, this section will also reflect on what has been learned through the process, and if any of the questions were unable to be answered. This could also include limitations or if any of the analysis could have been done using different methodologies.\n"
   ]
  },
  {
   "cell_type": "code",
   "execution_count": 1,
   "metadata": {},
   "outputs": [],
   "source": [
    "import pandas as pd\n",
    "import numpy as np\n",
    "import matplotlib.pyplot as plt\n",
    "import glob\n",
    "import seaborn as sns\n",
    "from scipy.stats import chi2_contingency\n",
    "from itertools import chain\n",
    "import string\n",
    "import inspect"
   ]
  },
  {
   "cell_type": "markdown",
   "metadata": {},
   "source": [
    "# Load Data"
   ]
  },
  {
   "cell_type": "code",
   "execution_count": 2,
   "metadata": {},
   "outputs": [
    {
     "data": {
      "text/plain": [
       "['data\\\\observations.csv', 'data\\\\species_info.csv']"
      ]
     },
     "execution_count": 2,
     "metadata": {},
     "output_type": "execute_result"
    }
   ],
   "source": [
    "data_dir = glob.glob('data\\*.csv')\n",
    "data_dir"
   ]
  },
  {
   "cell_type": "code",
   "execution_count": 3,
   "metadata": {},
   "outputs": [],
   "source": [
    "obsers = pd.read_csv(data_dir[0])\n",
    "spec_info = pd.read_csv(data_dir[1])"
   ]
  },
  {
   "cell_type": "markdown",
   "metadata": {},
   "source": [
    "# Observations preprocessing"
   ]
  },
  {
   "cell_type": "code",
   "execution_count": 4,
   "metadata": {},
   "outputs": [
    {
     "data": {
      "text/html": [
       "<div>\n",
       "<style scoped>\n",
       "    .dataframe tbody tr th:only-of-type {\n",
       "        vertical-align: middle;\n",
       "    }\n",
       "\n",
       "    .dataframe tbody tr th {\n",
       "        vertical-align: top;\n",
       "    }\n",
       "\n",
       "    .dataframe thead th {\n",
       "        text-align: right;\n",
       "    }\n",
       "</style>\n",
       "<table border=\"1\" class=\"dataframe\">\n",
       "  <thead>\n",
       "    <tr style=\"text-align: right;\">\n",
       "      <th></th>\n",
       "      <th>scientific_name</th>\n",
       "      <th>park_name</th>\n",
       "      <th>observations</th>\n",
       "    </tr>\n",
       "  </thead>\n",
       "  <tbody>\n",
       "    <tr>\n",
       "      <th>0</th>\n",
       "      <td>Vicia benghalensis</td>\n",
       "      <td>Great Smoky Mountains National Park</td>\n",
       "      <td>68</td>\n",
       "    </tr>\n",
       "    <tr>\n",
       "      <th>1</th>\n",
       "      <td>Neovison vison</td>\n",
       "      <td>Great Smoky Mountains National Park</td>\n",
       "      <td>77</td>\n",
       "    </tr>\n",
       "    <tr>\n",
       "      <th>2</th>\n",
       "      <td>Prunus subcordata</td>\n",
       "      <td>Yosemite National Park</td>\n",
       "      <td>138</td>\n",
       "    </tr>\n",
       "    <tr>\n",
       "      <th>3</th>\n",
       "      <td>Abutilon theophrasti</td>\n",
       "      <td>Bryce National Park</td>\n",
       "      <td>84</td>\n",
       "    </tr>\n",
       "    <tr>\n",
       "      <th>4</th>\n",
       "      <td>Githopsis specularioides</td>\n",
       "      <td>Great Smoky Mountains National Park</td>\n",
       "      <td>85</td>\n",
       "    </tr>\n",
       "  </tbody>\n",
       "</table>\n",
       "</div>"
      ],
      "text/plain": [
       "            scientific_name                            park_name  observations\n",
       "0        Vicia benghalensis  Great Smoky Mountains National Park            68\n",
       "1            Neovison vison  Great Smoky Mountains National Park            77\n",
       "2         Prunus subcordata               Yosemite National Park           138\n",
       "3      Abutilon theophrasti                  Bryce National Park            84\n",
       "4  Githopsis specularioides  Great Smoky Mountains National Park            85"
      ]
     },
     "execution_count": 4,
     "metadata": {},
     "output_type": "execute_result"
    }
   ],
   "source": [
    "obsers.head()"
   ]
  },
  {
   "cell_type": "markdown",
   "metadata": {},
   "source": [
    "#### observations\n",
    "\n",
    "The `Observations.csv` contains information from recorded sightings of different species throughout the national parks in the past 7 days. The columns included are:\n",
    "\n",
    "- **scientific_name** - The scientific name of each species\n",
    "- **park_name** - The name of the national park\n",
    "- **observations** - The number of observations in the past 7 days"
   ]
  },
  {
   "cell_type": "code",
   "execution_count": 5,
   "metadata": {},
   "outputs": [
    {
     "name": "stdout",
     "output_type": "stream",
     "text": [
      "<class 'pandas.core.frame.DataFrame'>\n",
      "RangeIndex: 23296 entries, 0 to 23295\n",
      "Data columns (total 3 columns):\n",
      " #   Column           Non-Null Count  Dtype \n",
      "---  ------           --------------  ----- \n",
      " 0   scientific_name  23296 non-null  object\n",
      " 1   park_name        23296 non-null  object\n",
      " 2   observations     23296 non-null  int64 \n",
      "dtypes: int64(1), object(2)\n",
      "memory usage: 546.1+ KB\n"
     ]
    }
   ],
   "source": [
    "obsers.info()"
   ]
  },
  {
   "cell_type": "markdown",
   "metadata": {},
   "source": [
    "<div class=\"alert alert-block alert-success\">\n",
    "<b>Yikes !  </b> No null values\n",
    "</div>"
   ]
  },
  {
   "cell_type": "code",
   "execution_count": 6,
   "metadata": {},
   "outputs": [
    {
     "data": {
      "text/plain": [
       "False    23281\n",
       "True        15\n",
       "dtype: int64"
      ]
     },
     "execution_count": 6,
     "metadata": {},
     "output_type": "execute_result"
    }
   ],
   "source": [
    "obsers.duplicated().value_counts()"
   ]
  },
  {
   "cell_type": "code",
   "execution_count": 7,
   "metadata": {},
   "outputs": [
    {
     "name": "stdout",
     "output_type": "stream",
     "text": [
      "<class 'pandas.core.frame.DataFrame'>\n",
      "Int64Index: 23281 entries, 0 to 23295\n",
      "Data columns (total 3 columns):\n",
      " #   Column           Non-Null Count  Dtype \n",
      "---  ------           --------------  ----- \n",
      " 0   scientific_name  23281 non-null  object\n",
      " 1   park_name        23281 non-null  object\n",
      " 2   observations     23281 non-null  int64 \n",
      "dtypes: int64(1), object(2)\n",
      "memory usage: 727.5+ KB\n"
     ]
    }
   ],
   "source": [
    "obsers.drop_duplicates(inplace = True)\n",
    "obsers.info()                                      #Num Items droped from 23296 to 23281"
   ]
  },
  {
   "cell_type": "code",
   "execution_count": 8,
   "metadata": {},
   "outputs": [
    {
     "name": "stdout",
     "output_type": "stream",
     "text": [
      "In scientific_name of Observations: \n",
      " True     17740\n",
      "False     5541\n",
      "dtype: int64\n",
      "In park_name of Observations: \n",
      " True     23277\n",
      "False        4\n",
      "dtype: int64\n"
     ]
    }
   ],
   "source": [
    "for col in obsers.columns[:-1]:\n",
    "    print(f\"In {col} of Observations: \\n\",obsers.duplicated(subset = col).value_counts())"
   ]
  },
  {
   "cell_type": "markdown",
   "metadata": {},
   "source": [
    "#### There are species observed in multiple parks since many duplicate names from data\n",
    "#### But I doubt there are items that have the same `scientific_name` and `park_name` but different `observations`.\n"
   ]
  },
  {
   "cell_type": "code",
   "execution_count": 9,
   "metadata": {},
   "outputs": [
    {
     "data": {
      "text/html": [
       "<div>\n",
       "<style scoped>\n",
       "    .dataframe tbody tr th:only-of-type {\n",
       "        vertical-align: middle;\n",
       "    }\n",
       "\n",
       "    .dataframe tbody tr th {\n",
       "        vertical-align: top;\n",
       "    }\n",
       "\n",
       "    .dataframe thead th {\n",
       "        text-align: right;\n",
       "    }\n",
       "</style>\n",
       "<table border=\"1\" class=\"dataframe\">\n",
       "  <thead>\n",
       "    <tr style=\"text-align: right;\">\n",
       "      <th></th>\n",
       "      <th>scientific_name</th>\n",
       "      <th>park_name</th>\n",
       "      <th>observations</th>\n",
       "    </tr>\n",
       "  </thead>\n",
       "  <tbody>\n",
       "    <tr>\n",
       "      <th>483</th>\n",
       "      <td>Agrostis gigantea</td>\n",
       "      <td>Yellowstone National Park</td>\n",
       "      <td>235</td>\n",
       "    </tr>\n",
       "    <tr>\n",
       "      <th>490</th>\n",
       "      <td>Agrostis mertensii</td>\n",
       "      <td>Yosemite National Park</td>\n",
       "      <td>128</td>\n",
       "    </tr>\n",
       "    <tr>\n",
       "      <th>945</th>\n",
       "      <td>Rumex crispus</td>\n",
       "      <td>Yellowstone National Park</td>\n",
       "      <td>255</td>\n",
       "    </tr>\n",
       "    <tr>\n",
       "      <th>1213</th>\n",
       "      <td>Dianthus barbatus</td>\n",
       "      <td>Bryce National Park</td>\n",
       "      <td>110</td>\n",
       "    </tr>\n",
       "    <tr>\n",
       "      <th>1259</th>\n",
       "      <td>Riparia riparia</td>\n",
       "      <td>Bryce National Park</td>\n",
       "      <td>91</td>\n",
       "    </tr>\n",
       "    <tr>\n",
       "      <th>...</th>\n",
       "      <td>...</td>\n",
       "      <td>...</td>\n",
       "      <td>...</td>\n",
       "    </tr>\n",
       "    <tr>\n",
       "      <th>23258</th>\n",
       "      <td>Microtus longicaudus</td>\n",
       "      <td>Yellowstone National Park</td>\n",
       "      <td>244</td>\n",
       "    </tr>\n",
       "    <tr>\n",
       "      <th>23259</th>\n",
       "      <td>Agrostis scabra</td>\n",
       "      <td>Bryce National Park</td>\n",
       "      <td>118</td>\n",
       "    </tr>\n",
       "    <tr>\n",
       "      <th>23267</th>\n",
       "      <td>Oxalis corniculata</td>\n",
       "      <td>Yosemite National Park</td>\n",
       "      <td>164</td>\n",
       "    </tr>\n",
       "    <tr>\n",
       "      <th>23273</th>\n",
       "      <td>Dactylis glomerata</td>\n",
       "      <td>Bryce National Park</td>\n",
       "      <td>89</td>\n",
       "    </tr>\n",
       "    <tr>\n",
       "      <th>23280</th>\n",
       "      <td>Botrychium simplex</td>\n",
       "      <td>Yellowstone National Park</td>\n",
       "      <td>241</td>\n",
       "    </tr>\n",
       "  </tbody>\n",
       "</table>\n",
       "<p>1117 rows × 3 columns</p>\n",
       "</div>"
      ],
      "text/plain": [
       "            scientific_name                  park_name  observations\n",
       "483       Agrostis gigantea  Yellowstone National Park           235\n",
       "490      Agrostis mertensii     Yosemite National Park           128\n",
       "945           Rumex crispus  Yellowstone National Park           255\n",
       "1213      Dianthus barbatus        Bryce National Park           110\n",
       "1259        Riparia riparia        Bryce National Park            91\n",
       "...                     ...                        ...           ...\n",
       "23258  Microtus longicaudus  Yellowstone National Park           244\n",
       "23259       Agrostis scabra        Bryce National Park           118\n",
       "23267    Oxalis corniculata     Yosemite National Park           164\n",
       "23273    Dactylis glomerata        Bryce National Park            89\n",
       "23280    Botrychium simplex  Yellowstone National Park           241\n",
       "\n",
       "[1117 rows x 3 columns]"
      ]
     },
     "execution_count": 9,
     "metadata": {},
     "output_type": "execute_result"
    }
   ],
   "source": [
    "name_park = obsers[obsers[['scientific_name','park_name']].duplicated()].drop_duplicates()\n",
    "# I want to get unique duplicates values (It got me very confused for the first time)\n",
    "name_park"
   ]
  },
  {
   "cell_type": "code",
   "execution_count": 10,
   "metadata": {},
   "outputs": [
    {
     "data": {
      "text/plain": [
       "array([['Agrostis gigantea', 'Yellowstone National Park'],\n",
       "       ['Agrostis mertensii', 'Yosemite National Park'],\n",
       "       ['Rumex crispus', 'Yellowstone National Park'],\n",
       "       ['Dianthus barbatus', 'Bryce National Park'],\n",
       "       ['Riparia riparia', 'Bryce National Park']], dtype=object)"
      ]
     },
     "execution_count": 10,
     "metadata": {},
     "output_type": "execute_result"
    }
   ],
   "source": [
    "val_name_park = name_park.drop('observations', axis = 1).values\n",
    "val_name_park[:5]"
   ]
  },
  {
   "cell_type": "markdown",
   "metadata": {},
   "source": [
    "#### Side-by-side duplicate values"
   ]
  },
  {
   "cell_type": "code",
   "execution_count": 11,
   "metadata": {},
   "outputs": [],
   "source": [
    "sub_lst = []\n",
    "for item in val_name_park:\n",
    "    sub_df = obsers[(obsers.scientific_name == item[0]) & (obsers.park_name == item[1])]\n",
    "    sub_lst.append(sub_df)\n",
    "    \n",
    "dup_name_park = pd.concat(sub_lst)\n"
   ]
  },
  {
   "cell_type": "markdown",
   "metadata": {},
   "source": [
    "#### As I anticipate, there are some items that make confusion"
   ]
  },
  {
   "cell_type": "code",
   "execution_count": 12,
   "metadata": {},
   "outputs": [
    {
     "data": {
      "text/html": [
       "<div>\n",
       "<style scoped>\n",
       "    .dataframe tbody tr th:only-of-type {\n",
       "        vertical-align: middle;\n",
       "    }\n",
       "\n",
       "    .dataframe tbody tr th {\n",
       "        vertical-align: top;\n",
       "    }\n",
       "\n",
       "    .dataframe thead th {\n",
       "        text-align: right;\n",
       "    }\n",
       "</style>\n",
       "<table border=\"1\" class=\"dataframe\">\n",
       "  <thead>\n",
       "    <tr style=\"text-align: right;\">\n",
       "      <th></th>\n",
       "      <th>scientific_name</th>\n",
       "      <th>park_name</th>\n",
       "      <th>observations</th>\n",
       "    </tr>\n",
       "  </thead>\n",
       "  <tbody>\n",
       "    <tr>\n",
       "      <th>449</th>\n",
       "      <td>Agrostis gigantea</td>\n",
       "      <td>Yellowstone National Park</td>\n",
       "      <td>253</td>\n",
       "    </tr>\n",
       "    <tr>\n",
       "      <th>483</th>\n",
       "      <td>Agrostis gigantea</td>\n",
       "      <td>Yellowstone National Park</td>\n",
       "      <td>235</td>\n",
       "    </tr>\n",
       "    <tr>\n",
       "      <th>111</th>\n",
       "      <td>Agrostis mertensii</td>\n",
       "      <td>Yosemite National Park</td>\n",
       "      <td>135</td>\n",
       "    </tr>\n",
       "    <tr>\n",
       "      <th>490</th>\n",
       "      <td>Agrostis mertensii</td>\n",
       "      <td>Yosemite National Park</td>\n",
       "      <td>128</td>\n",
       "    </tr>\n",
       "    <tr>\n",
       "      <th>308</th>\n",
       "      <td>Rumex crispus</td>\n",
       "      <td>Yellowstone National Park</td>\n",
       "      <td>256</td>\n",
       "    </tr>\n",
       "    <tr>\n",
       "      <th>...</th>\n",
       "      <td>...</td>\n",
       "      <td>...</td>\n",
       "      <td>...</td>\n",
       "    </tr>\n",
       "    <tr>\n",
       "      <th>23267</th>\n",
       "      <td>Oxalis corniculata</td>\n",
       "      <td>Yosemite National Park</td>\n",
       "      <td>164</td>\n",
       "    </tr>\n",
       "    <tr>\n",
       "      <th>8289</th>\n",
       "      <td>Dactylis glomerata</td>\n",
       "      <td>Bryce National Park</td>\n",
       "      <td>105</td>\n",
       "    </tr>\n",
       "    <tr>\n",
       "      <th>23273</th>\n",
       "      <td>Dactylis glomerata</td>\n",
       "      <td>Bryce National Park</td>\n",
       "      <td>89</td>\n",
       "    </tr>\n",
       "    <tr>\n",
       "      <th>10297</th>\n",
       "      <td>Botrychium simplex</td>\n",
       "      <td>Yellowstone National Park</td>\n",
       "      <td>275</td>\n",
       "    </tr>\n",
       "    <tr>\n",
       "      <th>23280</th>\n",
       "      <td>Botrychium simplex</td>\n",
       "      <td>Yellowstone National Park</td>\n",
       "      <td>241</td>\n",
       "    </tr>\n",
       "  </tbody>\n",
       "</table>\n",
       "<p>2304 rows × 3 columns</p>\n",
       "</div>"
      ],
      "text/plain": [
       "          scientific_name                  park_name  observations\n",
       "449     Agrostis gigantea  Yellowstone National Park           253\n",
       "483     Agrostis gigantea  Yellowstone National Park           235\n",
       "111    Agrostis mertensii     Yosemite National Park           135\n",
       "490    Agrostis mertensii     Yosemite National Park           128\n",
       "308         Rumex crispus  Yellowstone National Park           256\n",
       "...                   ...                        ...           ...\n",
       "23267  Oxalis corniculata     Yosemite National Park           164\n",
       "8289   Dactylis glomerata        Bryce National Park           105\n",
       "23273  Dactylis glomerata        Bryce National Park            89\n",
       "10297  Botrychium simplex  Yellowstone National Park           275\n",
       "23280  Botrychium simplex  Yellowstone National Park           241\n",
       "\n",
       "[2304 rows x 3 columns]"
      ]
     },
     "execution_count": 12,
     "metadata": {},
     "output_type": "execute_result"
    }
   ],
   "source": [
    "dup_name_park"
   ]
  },
  {
   "cell_type": "markdown",
   "metadata": {},
   "source": [
    "#### Because the data doesn't give me any information about these duplicate items so I gonna take average out of them"
   ]
  },
  {
   "cell_type": "code",
   "execution_count": 13,
   "metadata": {},
   "outputs": [
    {
     "name": "stderr",
     "output_type": "stream",
     "text": [
      "c:\\users\\admin\\appdata\\local\\programs\\python\\python38\\lib\\site-packages\\pandas\\core\\indexing.py:670: SettingWithCopyWarning: \n",
      "A value is trying to be set on a copy of a slice from a DataFrame\n",
      "\n",
      "See the caveats in the documentation: https://pandas.pydata.org/pandas-docs/stable/user_guide/indexing.html#returning-a-view-versus-a-copy\n",
      "  iloc._setitem_with_indexer(indexer, value)\n"
     ]
    }
   ],
   "source": [
    "dup_name_park['new_observations'] = 0\n",
    "\n",
    "for item in val_name_park:\n",
    "    row_condition = (dup_name_park.scientific_name == item[0]) & (dup_name_park.park_name == item[1])\n",
    "    dup_name_park.new_observations.loc[row_condition] = np.ceil(dup_name_park[row_condition].observations.mean())"
   ]
  },
  {
   "cell_type": "code",
   "execution_count": 14,
   "metadata": {},
   "outputs": [
    {
     "data": {
      "text/html": [
       "<div>\n",
       "<style scoped>\n",
       "    .dataframe tbody tr th:only-of-type {\n",
       "        vertical-align: middle;\n",
       "    }\n",
       "\n",
       "    .dataframe tbody tr th {\n",
       "        vertical-align: top;\n",
       "    }\n",
       "\n",
       "    .dataframe thead th {\n",
       "        text-align: right;\n",
       "    }\n",
       "</style>\n",
       "<table border=\"1\" class=\"dataframe\">\n",
       "  <thead>\n",
       "    <tr style=\"text-align: right;\">\n",
       "      <th></th>\n",
       "      <th>scientific_name</th>\n",
       "      <th>park_name</th>\n",
       "      <th>observations</th>\n",
       "      <th>new_observations</th>\n",
       "    </tr>\n",
       "  </thead>\n",
       "  <tbody>\n",
       "    <tr>\n",
       "      <th>449</th>\n",
       "      <td>Agrostis gigantea</td>\n",
       "      <td>Yellowstone National Park</td>\n",
       "      <td>253</td>\n",
       "      <td>244.0</td>\n",
       "    </tr>\n",
       "    <tr>\n",
       "      <th>483</th>\n",
       "      <td>Agrostis gigantea</td>\n",
       "      <td>Yellowstone National Park</td>\n",
       "      <td>235</td>\n",
       "      <td>244.0</td>\n",
       "    </tr>\n",
       "    <tr>\n",
       "      <th>111</th>\n",
       "      <td>Agrostis mertensii</td>\n",
       "      <td>Yosemite National Park</td>\n",
       "      <td>135</td>\n",
       "      <td>132.0</td>\n",
       "    </tr>\n",
       "    <tr>\n",
       "      <th>490</th>\n",
       "      <td>Agrostis mertensii</td>\n",
       "      <td>Yosemite National Park</td>\n",
       "      <td>128</td>\n",
       "      <td>132.0</td>\n",
       "    </tr>\n",
       "    <tr>\n",
       "      <th>308</th>\n",
       "      <td>Rumex crispus</td>\n",
       "      <td>Yellowstone National Park</td>\n",
       "      <td>256</td>\n",
       "      <td>256.0</td>\n",
       "    </tr>\n",
       "    <tr>\n",
       "      <th>...</th>\n",
       "      <td>...</td>\n",
       "      <td>...</td>\n",
       "      <td>...</td>\n",
       "      <td>...</td>\n",
       "    </tr>\n",
       "    <tr>\n",
       "      <th>23267</th>\n",
       "      <td>Oxalis corniculata</td>\n",
       "      <td>Yosemite National Park</td>\n",
       "      <td>164</td>\n",
       "      <td>159.0</td>\n",
       "    </tr>\n",
       "    <tr>\n",
       "      <th>8289</th>\n",
       "      <td>Dactylis glomerata</td>\n",
       "      <td>Bryce National Park</td>\n",
       "      <td>105</td>\n",
       "      <td>97.0</td>\n",
       "    </tr>\n",
       "    <tr>\n",
       "      <th>23273</th>\n",
       "      <td>Dactylis glomerata</td>\n",
       "      <td>Bryce National Park</td>\n",
       "      <td>89</td>\n",
       "      <td>97.0</td>\n",
       "    </tr>\n",
       "    <tr>\n",
       "      <th>10297</th>\n",
       "      <td>Botrychium simplex</td>\n",
       "      <td>Yellowstone National Park</td>\n",
       "      <td>275</td>\n",
       "      <td>258.0</td>\n",
       "    </tr>\n",
       "    <tr>\n",
       "      <th>23280</th>\n",
       "      <td>Botrychium simplex</td>\n",
       "      <td>Yellowstone National Park</td>\n",
       "      <td>241</td>\n",
       "      <td>258.0</td>\n",
       "    </tr>\n",
       "  </tbody>\n",
       "</table>\n",
       "<p>2304 rows × 4 columns</p>\n",
       "</div>"
      ],
      "text/plain": [
       "          scientific_name                  park_name  observations  \\\n",
       "449     Agrostis gigantea  Yellowstone National Park           253   \n",
       "483     Agrostis gigantea  Yellowstone National Park           235   \n",
       "111    Agrostis mertensii     Yosemite National Park           135   \n",
       "490    Agrostis mertensii     Yosemite National Park           128   \n",
       "308         Rumex crispus  Yellowstone National Park           256   \n",
       "...                   ...                        ...           ...   \n",
       "23267  Oxalis corniculata     Yosemite National Park           164   \n",
       "8289   Dactylis glomerata        Bryce National Park           105   \n",
       "23273  Dactylis glomerata        Bryce National Park            89   \n",
       "10297  Botrychium simplex  Yellowstone National Park           275   \n",
       "23280  Botrychium simplex  Yellowstone National Park           241   \n",
       "\n",
       "       new_observations  \n",
       "449               244.0  \n",
       "483               244.0  \n",
       "111               132.0  \n",
       "490               132.0  \n",
       "308               256.0  \n",
       "...                 ...  \n",
       "23267             159.0  \n",
       "8289               97.0  \n",
       "23273              97.0  \n",
       "10297             258.0  \n",
       "23280             258.0  \n",
       "\n",
       "[2304 rows x 4 columns]"
      ]
     },
     "execution_count": 14,
     "metadata": {},
     "output_type": "execute_result"
    }
   ],
   "source": [
    "dup_name_park"
   ]
  },
  {
   "cell_type": "code",
   "execution_count": 15,
   "metadata": {},
   "outputs": [],
   "source": [
    "obsers.drop_duplicates(subset = ['scientific_name', 'park_name'], inplace = True)\n",
    "dup_name_park.drop_duplicates(subset = ['scientific_name', 'park_name'], inplace = True)\n"
   ]
  },
  {
   "cell_type": "code",
   "execution_count": 16,
   "metadata": {},
   "outputs": [
    {
     "name": "stderr",
     "output_type": "stream",
     "text": [
      "c:\\users\\admin\\appdata\\local\\programs\\python\\python38\\lib\\site-packages\\pandas\\core\\indexing.py:670: SettingWithCopyWarning: \n",
      "A value is trying to be set on a copy of a slice from a DataFrame\n",
      "\n",
      "See the caveats in the documentation: https://pandas.pydata.org/pandas-docs/stable/user_guide/indexing.html#returning-a-view-versus-a-copy\n",
      "  iloc._setitem_with_indexer(indexer, value)\n"
     ]
    }
   ],
   "source": [
    "for item in val_name_park:\n",
    "    dup_condition = (dup_name_park.scientific_name == item[0]) & (dup_name_park.park_name == item[1])\n",
    "    obser_condition = (obsers.scientific_name == item[0]) & (obsers.park_name == item[1])\n",
    "    obsers.observations.loc[obser_condition] = dup_name_park.new_observations.loc[dup_condition]\n",
    "    "
   ]
  },
  {
   "cell_type": "markdown",
   "metadata": {},
   "source": [
    "# Species information preprocessing"
   ]
  },
  {
   "cell_type": "code",
   "execution_count": 17,
   "metadata": {},
   "outputs": [
    {
     "data": {
      "text/html": [
       "<div>\n",
       "<style scoped>\n",
       "    .dataframe tbody tr th:only-of-type {\n",
       "        vertical-align: middle;\n",
       "    }\n",
       "\n",
       "    .dataframe tbody tr th {\n",
       "        vertical-align: top;\n",
       "    }\n",
       "\n",
       "    .dataframe thead th {\n",
       "        text-align: right;\n",
       "    }\n",
       "</style>\n",
       "<table border=\"1\" class=\"dataframe\">\n",
       "  <thead>\n",
       "    <tr style=\"text-align: right;\">\n",
       "      <th></th>\n",
       "      <th>category</th>\n",
       "      <th>scientific_name</th>\n",
       "      <th>common_names</th>\n",
       "      <th>conservation_status</th>\n",
       "    </tr>\n",
       "  </thead>\n",
       "  <tbody>\n",
       "    <tr>\n",
       "      <th>0</th>\n",
       "      <td>Mammal</td>\n",
       "      <td>Clethrionomys gapperi gapperi</td>\n",
       "      <td>Gapper's Red-Backed Vole</td>\n",
       "      <td>NaN</td>\n",
       "    </tr>\n",
       "    <tr>\n",
       "      <th>1</th>\n",
       "      <td>Mammal</td>\n",
       "      <td>Bos bison</td>\n",
       "      <td>American Bison, Bison</td>\n",
       "      <td>NaN</td>\n",
       "    </tr>\n",
       "    <tr>\n",
       "      <th>2</th>\n",
       "      <td>Mammal</td>\n",
       "      <td>Bos taurus</td>\n",
       "      <td>Aurochs, Aurochs, Domestic Cattle (Feral), Dom...</td>\n",
       "      <td>NaN</td>\n",
       "    </tr>\n",
       "    <tr>\n",
       "      <th>3</th>\n",
       "      <td>Mammal</td>\n",
       "      <td>Ovis aries</td>\n",
       "      <td>Domestic Sheep, Mouflon, Red Sheep, Sheep (Feral)</td>\n",
       "      <td>NaN</td>\n",
       "    </tr>\n",
       "    <tr>\n",
       "      <th>4</th>\n",
       "      <td>Mammal</td>\n",
       "      <td>Cervus elaphus</td>\n",
       "      <td>Wapiti Or Elk</td>\n",
       "      <td>NaN</td>\n",
       "    </tr>\n",
       "  </tbody>\n",
       "</table>\n",
       "</div>"
      ],
      "text/plain": [
       "  category                scientific_name  \\\n",
       "0   Mammal  Clethrionomys gapperi gapperi   \n",
       "1   Mammal                      Bos bison   \n",
       "2   Mammal                     Bos taurus   \n",
       "3   Mammal                     Ovis aries   \n",
       "4   Mammal                 Cervus elaphus   \n",
       "\n",
       "                                        common_names conservation_status  \n",
       "0                           Gapper's Red-Backed Vole                 NaN  \n",
       "1                              American Bison, Bison                 NaN  \n",
       "2  Aurochs, Aurochs, Domestic Cattle (Feral), Dom...                 NaN  \n",
       "3  Domestic Sheep, Mouflon, Red Sheep, Sheep (Feral)                 NaN  \n",
       "4                                      Wapiti Or Elk                 NaN  "
      ]
     },
     "execution_count": 17,
     "metadata": {},
     "output_type": "execute_result"
    }
   ],
   "source": [
    "spec_info.head()"
   ]
  },
  {
   "cell_type": "markdown",
   "metadata": {},
   "source": [
    "#### species\n",
    "\n",
    "The `species_info.csv` contains information on the different species in the National Parks. The columns in the data set include:\n",
    "- **category** - The category of taxonomy for each species\n",
    "- **scientific_name** - The scientific name of each species\n",
    "- **common_names** - The common names of each species\n",
    "- **conservation_status** - The species conservation status (nah stands for not being under any concern) "
   ]
  },
  {
   "cell_type": "code",
   "execution_count": 18,
   "metadata": {},
   "outputs": [
    {
     "name": "stdout",
     "output_type": "stream",
     "text": [
      "<class 'pandas.core.frame.DataFrame'>\n",
      "RangeIndex: 5824 entries, 0 to 5823\n",
      "Data columns (total 4 columns):\n",
      " #   Column               Non-Null Count  Dtype \n",
      "---  ------               --------------  ----- \n",
      " 0   category             5824 non-null   object\n",
      " 1   scientific_name      5824 non-null   object\n",
      " 2   common_names         5824 non-null   object\n",
      " 3   conservation_status  191 non-null    object\n",
      "dtypes: object(4)\n",
      "memory usage: 182.1+ KB\n"
     ]
    }
   ],
   "source": [
    "spec_info.info()"
   ]
  },
  {
   "cell_type": "markdown",
   "metadata": {},
   "source": [
    "#### Only `conservation_status` has null values"
   ]
  },
  {
   "cell_type": "code",
   "execution_count": 19,
   "metadata": {},
   "outputs": [
    {
     "data": {
      "text/plain": [
       "No Concern            5633\n",
       "Species of Concern     161\n",
       "Endangered              16\n",
       "Threatened              10\n",
       "In Recovery              4\n",
       "Name: conservation_status, dtype: int64"
      ]
     },
     "execution_count": 19,
     "metadata": {},
     "output_type": "execute_result"
    }
   ],
   "source": [
    "spec_info.fillna('No Concern', inplace = True)\n",
    "spec_info.conservation_status.value_counts(dropna=False)"
   ]
  },
  {
   "cell_type": "code",
   "execution_count": 20,
   "metadata": {},
   "outputs": [
    {
     "data": {
      "text/plain": [
       "category                           Mammal\n",
       "scientific_name          Eptesicus fuscus\n",
       "common_names                Big Brown Bat\n",
       "conservation_status    Species of Concern\n",
       "Name: 29, dtype: object"
      ]
     },
     "execution_count": 20,
     "metadata": {},
     "output_type": "execute_result"
    }
   ],
   "source": [
    "spec_info.iloc[29]"
   ]
  },
  {
   "cell_type": "markdown",
   "metadata": {},
   "source": [
    "#### Make `conservation_status` in order : ***No Concern < Species of Concern < Threatened  < In Recovery < Endangered***"
   ]
  },
  {
   "cell_type": "code",
   "execution_count": 21,
   "metadata": {},
   "outputs": [
    {
     "data": {
      "text/plain": [
       "No Concern            5633\n",
       "Species of Concern     161\n",
       "Endangered              16\n",
       "Threatened              10\n",
       "In Recovery              4\n",
       "Name: conservation_status, dtype: int64"
      ]
     },
     "execution_count": 21,
     "metadata": {},
     "output_type": "execute_result"
    }
   ],
   "source": [
    "status_cat = ['No Concern','Species of Concern','Threatened','In Recovery','Endangered']\n",
    "spec_info.conservation_status = pd.Categorical(spec_info.conservation_status, status_cat, ordered=True)\n",
    "spec_info.conservation_status.value_counts(dropna = False)"
   ]
  },
  {
   "cell_type": "code",
   "execution_count": 22,
   "metadata": {},
   "outputs": [
    {
     "data": {
      "text/plain": [
       "category                                   Mammal\n",
       "scientific_name                  Eptesicus fuscus\n",
       "common_names                        Big Brown Bat\n",
       "conservation_status            Species of Concern\n",
       "numeric_conservation_status                     1\n",
       "Name: 29, dtype: object"
      ]
     },
     "execution_count": 22,
     "metadata": {},
     "output_type": "execute_result"
    }
   ],
   "source": [
    "spec_info['numeric_conservation_status'] = spec_info.conservation_status.cat.codes\n",
    "spec_info.iloc[29]"
   ]
  },
  {
   "cell_type": "markdown",
   "metadata": {},
   "source": [
    "#### Handling duplicate values"
   ]
  },
  {
   "cell_type": "code",
   "execution_count": 23,
   "metadata": {},
   "outputs": [
    {
     "name": "stdout",
     "output_type": "stream",
     "text": [
      "In category of Species Information: \n",
      " True     5817\n",
      "False       7\n",
      "dtype: int64\n",
      "In scientific_name of Species Information: \n",
      " False    5541\n",
      "True      283\n",
      "dtype: int64\n",
      "In common_names of Species Information: \n",
      " False    5504\n",
      "True      320\n",
      "dtype: int64\n",
      "In conservation_status of Species Information: \n",
      " True     5819\n",
      "False       5\n",
      "dtype: int64\n",
      "In numeric_conservation_status of Species Information: \n",
      " True     5819\n",
      "False       5\n",
      "dtype: int64\n"
     ]
    }
   ],
   "source": [
    "for col in spec_info.columns:\n",
    "    print(f\"In {col} of Species Information: \\n\",spec_info.duplicated(subset = col).value_counts())"
   ]
  },
  {
   "cell_type": "markdown",
   "metadata": {},
   "source": [
    "#### There are duplicates of  `scientific_name` . Just like the Observations data, I want to know if there could be any wrong information of them."
   ]
  },
  {
   "cell_type": "code",
   "execution_count": 24,
   "metadata": {},
   "outputs": [
    {
     "data": {
      "text/plain": [
       "(274,)"
      ]
     },
     "execution_count": 24,
     "metadata": {},
     "output_type": "execute_result"
    }
   ],
   "source": [
    "sci_name_dup = spec_info[spec_info.scientific_name.duplicated()].scientific_name.drop_duplicates().values\n",
    "sci_name_dup.shape"
   ]
  },
  {
   "cell_type": "code",
   "execution_count": 25,
   "metadata": {},
   "outputs": [],
   "source": [
    "dup_lst = []\n",
    "for i in sci_name_dup:\n",
    "    dup_lst.append(spec_info[spec_info.scientific_name == i])\n",
    "    \n",
    "dup_df = pd.concat(dup_lst)"
   ]
  },
  {
   "cell_type": "markdown",
   "metadata": {},
   "source": [
    "#### There are identical `scientific_name` but different conservation_status"
   ]
  },
  {
   "cell_type": "code",
   "execution_count": 26,
   "metadata": {},
   "outputs": [
    {
     "data": {
      "text/html": [
       "<div>\n",
       "<style scoped>\n",
       "    .dataframe tbody tr th:only-of-type {\n",
       "        vertical-align: middle;\n",
       "    }\n",
       "\n",
       "    .dataframe tbody tr th {\n",
       "        vertical-align: top;\n",
       "    }\n",
       "\n",
       "    .dataframe thead th {\n",
       "        text-align: right;\n",
       "    }\n",
       "</style>\n",
       "<table border=\"1\" class=\"dataframe\">\n",
       "  <thead>\n",
       "    <tr style=\"text-align: right;\">\n",
       "      <th></th>\n",
       "      <th>category</th>\n",
       "      <th>scientific_name</th>\n",
       "      <th>common_names</th>\n",
       "      <th>conservation_status</th>\n",
       "      <th>numeric_conservation_status</th>\n",
       "    </tr>\n",
       "  </thead>\n",
       "  <tbody>\n",
       "    <tr>\n",
       "      <th>4</th>\n",
       "      <td>Mammal</td>\n",
       "      <td>Cervus elaphus</td>\n",
       "      <td>Wapiti Or Elk</td>\n",
       "      <td>No Concern</td>\n",
       "      <td>0</td>\n",
       "    </tr>\n",
       "    <tr>\n",
       "      <th>3017</th>\n",
       "      <td>Mammal</td>\n",
       "      <td>Cervus elaphus</td>\n",
       "      <td>Rocky Mountain Elk</td>\n",
       "      <td>No Concern</td>\n",
       "      <td>0</td>\n",
       "    </tr>\n",
       "    <tr>\n",
       "      <th>5</th>\n",
       "      <td>Mammal</td>\n",
       "      <td>Odocoileus virginianus</td>\n",
       "      <td>White-Tailed Deer</td>\n",
       "      <td>No Concern</td>\n",
       "      <td>0</td>\n",
       "    </tr>\n",
       "    <tr>\n",
       "      <th>3019</th>\n",
       "      <td>Mammal</td>\n",
       "      <td>Odocoileus virginianus</td>\n",
       "      <td>White-Tailed Deer, White-Tailed Deer</td>\n",
       "      <td>No Concern</td>\n",
       "      <td>0</td>\n",
       "    </tr>\n",
       "    <tr>\n",
       "      <th>8</th>\n",
       "      <td>Mammal</td>\n",
       "      <td>Canis lupus</td>\n",
       "      <td>Gray Wolf</td>\n",
       "      <td>Endangered</td>\n",
       "      <td>4</td>\n",
       "    </tr>\n",
       "    <tr>\n",
       "      <th>3020</th>\n",
       "      <td>Mammal</td>\n",
       "      <td>Canis lupus</td>\n",
       "      <td>Gray Wolf, Wolf</td>\n",
       "      <td>In Recovery</td>\n",
       "      <td>3</td>\n",
       "    </tr>\n",
       "    <tr>\n",
       "      <th>4448</th>\n",
       "      <td>Mammal</td>\n",
       "      <td>Canis lupus</td>\n",
       "      <td>Gray Wolf, Wolf</td>\n",
       "      <td>Endangered</td>\n",
       "      <td>4</td>\n",
       "    </tr>\n",
       "    <tr>\n",
       "      <th>16</th>\n",
       "      <td>Mammal</td>\n",
       "      <td>Puma concolor</td>\n",
       "      <td>Panther (Mountain Lion)</td>\n",
       "      <td>No Concern</td>\n",
       "      <td>0</td>\n",
       "    </tr>\n",
       "    <tr>\n",
       "      <th>3022</th>\n",
       "      <td>Mammal</td>\n",
       "      <td>Puma concolor</td>\n",
       "      <td>Cougar, Mountain Lion, Puma</td>\n",
       "      <td>No Concern</td>\n",
       "      <td>0</td>\n",
       "    </tr>\n",
       "    <tr>\n",
       "      <th>4451</th>\n",
       "      <td>Mammal</td>\n",
       "      <td>Puma concolor</td>\n",
       "      <td>Mountain Lion</td>\n",
       "      <td>No Concern</td>\n",
       "      <td>0</td>\n",
       "    </tr>\n",
       "  </tbody>\n",
       "</table>\n",
       "</div>"
      ],
      "text/plain": [
       "     category         scientific_name                          common_names  \\\n",
       "4      Mammal          Cervus elaphus                         Wapiti Or Elk   \n",
       "3017   Mammal          Cervus elaphus                    Rocky Mountain Elk   \n",
       "5      Mammal  Odocoileus virginianus                     White-Tailed Deer   \n",
       "3019   Mammal  Odocoileus virginianus  White-Tailed Deer, White-Tailed Deer   \n",
       "8      Mammal             Canis lupus                             Gray Wolf   \n",
       "3020   Mammal             Canis lupus                       Gray Wolf, Wolf   \n",
       "4448   Mammal             Canis lupus                       Gray Wolf, Wolf   \n",
       "16     Mammal           Puma concolor               Panther (Mountain Lion)   \n",
       "3022   Mammal           Puma concolor           Cougar, Mountain Lion, Puma   \n",
       "4451   Mammal           Puma concolor                         Mountain Lion   \n",
       "\n",
       "     conservation_status  numeric_conservation_status  \n",
       "4             No Concern                            0  \n",
       "3017          No Concern                            0  \n",
       "5             No Concern                            0  \n",
       "3019          No Concern                            0  \n",
       "8             Endangered                            4  \n",
       "3020         In Recovery                            3  \n",
       "4448          Endangered                            4  \n",
       "16            No Concern                            0  \n",
       "3022          No Concern                            0  \n",
       "4451          No Concern                            0  "
      ]
     },
     "execution_count": 26,
     "metadata": {},
     "output_type": "execute_result"
    }
   ],
   "source": [
    "dup_df[:10]"
   ]
  },
  {
   "cell_type": "markdown",
   "metadata": {},
   "source": [
    "#### Therefore, I'm dropping them and replace with the average `conservation_status`"
   ]
  },
  {
   "cell_type": "code",
   "execution_count": 27,
   "metadata": {},
   "outputs": [],
   "source": [
    "modified_item = []\n",
    "for i in sci_name_dup:\n",
    "    temp_df = spec_info[spec_info.scientific_name == i].copy()\n",
    "    cat = temp_df.category.iloc[0]\n",
    "    sci_name = temp_df.scientific_name.iloc[0]\n",
    "    join_name = \" \".join(str(i) for i in temp_df.common_names.unique()) # Need to reserve common_name information\n",
    "    num_status = np.ceil(temp_df.numeric_conservation_status.mean()) # Take average and round it up\n",
    "    status = status_cat[int(num_status)]\n",
    "    \n",
    "    \n",
    "    modified_item.append([cat,sci_name,join_name,status, num_status])\n",
    "    \n",
    "modified_item_df = pd.DataFrame(modified_item, columns = dup_df.columns)"
   ]
  },
  {
   "cell_type": "code",
   "execution_count": 28,
   "metadata": {},
   "outputs": [],
   "source": [
    "index = spec_info[spec_info.scientific_name.isin(sci_name_dup)].index\n",
    "spec_info.drop(index,inplace = True)"
   ]
  },
  {
   "cell_type": "code",
   "execution_count": 29,
   "metadata": {},
   "outputs": [
    {
     "data": {
      "text/plain": [
       "False    5267\n",
       "Name: scientific_name, dtype: int64"
      ]
     },
     "execution_count": 29,
     "metadata": {},
     "output_type": "execute_result"
    }
   ],
   "source": [
    "spec_info.append(modified_item_df)\n",
    "spec_info.reset_index(drop=True, inplace = True)\n",
    "spec_info.scientific_name.duplicated().value_counts()"
   ]
  },
  {
   "cell_type": "code",
   "execution_count": 30,
   "metadata": {},
   "outputs": [
    {
     "data": {
      "text/plain": [
       "41             Marsh Rice Rat\n",
       "98        White-Winged Scoter\n",
       "243        Brewster's Warbler\n",
       "245        Lawrence's Warbler\n",
       "273    Olive-Sided Flycatcher\n",
       "Name: common_names, dtype: object"
      ]
     },
     "execution_count": 30,
     "metadata": {},
     "output_type": "execute_result"
    }
   ],
   "source": [
    "com_name_dup = spec_info[spec_info.common_names.duplicated()].common_names.drop_duplicates()\n",
    "com_name_dup[:5]"
   ]
  },
  {
   "cell_type": "code",
   "execution_count": 31,
   "metadata": {},
   "outputs": [],
   "source": [
    "dup_lst = []\n",
    "for i in com_name_dup:\n",
    "    dup_lst.append(spec_info[spec_info.common_names == i])\n",
    "    \n",
    "dup_df = pd.concat(dup_lst)"
   ]
  },
  {
   "cell_type": "markdown",
   "metadata": {},
   "source": [
    "#### Same `common_names` but different `scientific_name`. However, they might be biologically different but appeareance so they share the same common name. Therefore, It should not be a problem."
   ]
  },
  {
   "cell_type": "code",
   "execution_count": 32,
   "metadata": {},
   "outputs": [
    {
     "data": {
      "text/html": [
       "<div>\n",
       "<style scoped>\n",
       "    .dataframe tbody tr th:only-of-type {\n",
       "        vertical-align: middle;\n",
       "    }\n",
       "\n",
       "    .dataframe tbody tr th {\n",
       "        vertical-align: top;\n",
       "    }\n",
       "\n",
       "    .dataframe thead th {\n",
       "        text-align: right;\n",
       "    }\n",
       "</style>\n",
       "<table border=\"1\" class=\"dataframe\">\n",
       "  <thead>\n",
       "    <tr style=\"text-align: right;\">\n",
       "      <th></th>\n",
       "      <th>category</th>\n",
       "      <th>scientific_name</th>\n",
       "      <th>common_names</th>\n",
       "      <th>conservation_status</th>\n",
       "      <th>numeric_conservation_status</th>\n",
       "    </tr>\n",
       "  </thead>\n",
       "  <tbody>\n",
       "    <tr>\n",
       "      <th>40</th>\n",
       "      <td>Mammal</td>\n",
       "      <td>Oryzomys palustris</td>\n",
       "      <td>Marsh Rice Rat</td>\n",
       "      <td>No Concern</td>\n",
       "      <td>0</td>\n",
       "    </tr>\n",
       "    <tr>\n",
       "      <th>41</th>\n",
       "      <td>Mammal</td>\n",
       "      <td>Oryzomys palustris palustris</td>\n",
       "      <td>Marsh Rice Rat</td>\n",
       "      <td>No Concern</td>\n",
       "      <td>0</td>\n",
       "    </tr>\n",
       "    <tr>\n",
       "      <th>97</th>\n",
       "      <td>Bird</td>\n",
       "      <td>Melanitta deglandi</td>\n",
       "      <td>White-Winged Scoter</td>\n",
       "      <td>No Concern</td>\n",
       "      <td>0</td>\n",
       "    </tr>\n",
       "    <tr>\n",
       "      <th>98</th>\n",
       "      <td>Bird</td>\n",
       "      <td>Melanitta fusca</td>\n",
       "      <td>White-Winged Scoter</td>\n",
       "      <td>No Concern</td>\n",
       "      <td>0</td>\n",
       "    </tr>\n",
       "    <tr>\n",
       "      <th>67</th>\n",
       "      <td>Bird</td>\n",
       "      <td>Vermivora pinus X chrysoptera</td>\n",
       "      <td>Brewster's Warbler</td>\n",
       "      <td>No Concern</td>\n",
       "      <td>0</td>\n",
       "    </tr>\n",
       "    <tr>\n",
       "      <th>243</th>\n",
       "      <td>Bird</td>\n",
       "      <td>Vermivora chrysoptera X pinus</td>\n",
       "      <td>Brewster's Warbler</td>\n",
       "      <td>No Concern</td>\n",
       "      <td>0</td>\n",
       "    </tr>\n",
       "    <tr>\n",
       "      <th>246</th>\n",
       "      <td>Bird</td>\n",
       "      <td>Vermivora leucobronchialis</td>\n",
       "      <td>Brewster's Warbler</td>\n",
       "      <td>No Concern</td>\n",
       "      <td>0</td>\n",
       "    </tr>\n",
       "    <tr>\n",
       "      <th>244</th>\n",
       "      <td>Bird</td>\n",
       "      <td>Vermivora lawrencei</td>\n",
       "      <td>Lawrence's Warbler</td>\n",
       "      <td>No Concern</td>\n",
       "      <td>0</td>\n",
       "    </tr>\n",
       "    <tr>\n",
       "      <th>245</th>\n",
       "      <td>Bird</td>\n",
       "      <td>Vermivora lawrencii</td>\n",
       "      <td>Lawrence's Warbler</td>\n",
       "      <td>No Concern</td>\n",
       "      <td>0</td>\n",
       "    </tr>\n",
       "    <tr>\n",
       "      <th>272</th>\n",
       "      <td>Bird</td>\n",
       "      <td>Contopus borealis</td>\n",
       "      <td>Olive-Sided Flycatcher</td>\n",
       "      <td>No Concern</td>\n",
       "      <td>0</td>\n",
       "    </tr>\n",
       "  </tbody>\n",
       "</table>\n",
       "</div>"
      ],
      "text/plain": [
       "    category                scientific_name            common_names  \\\n",
       "40    Mammal             Oryzomys palustris          Marsh Rice Rat   \n",
       "41    Mammal   Oryzomys palustris palustris          Marsh Rice Rat   \n",
       "97      Bird             Melanitta deglandi     White-Winged Scoter   \n",
       "98      Bird                Melanitta fusca     White-Winged Scoter   \n",
       "67      Bird  Vermivora pinus X chrysoptera      Brewster's Warbler   \n",
       "243     Bird  Vermivora chrysoptera X pinus      Brewster's Warbler   \n",
       "246     Bird     Vermivora leucobronchialis      Brewster's Warbler   \n",
       "244     Bird            Vermivora lawrencei      Lawrence's Warbler   \n",
       "245     Bird            Vermivora lawrencii      Lawrence's Warbler   \n",
       "272     Bird              Contopus borealis  Olive-Sided Flycatcher   \n",
       "\n",
       "    conservation_status  numeric_conservation_status  \n",
       "40           No Concern                            0  \n",
       "41           No Concern                            0  \n",
       "97           No Concern                            0  \n",
       "98           No Concern                            0  \n",
       "67           No Concern                            0  \n",
       "243          No Concern                            0  \n",
       "246          No Concern                            0  \n",
       "244          No Concern                            0  \n",
       "245          No Concern                            0  \n",
       "272          No Concern                            0  "
      ]
     },
     "execution_count": 32,
     "metadata": {},
     "output_type": "execute_result"
    }
   ],
   "source": [
    "dup_df.head(10)"
   ]
  },
  {
   "cell_type": "code",
   "execution_count": 33,
   "metadata": {},
   "outputs": [
    {
     "name": "stdout",
     "output_type": "stream",
     "text": [
      "<class 'pandas.core.frame.DataFrame'>\n",
      "RangeIndex: 5267 entries, 0 to 5266\n",
      "Data columns (total 5 columns):\n",
      " #   Column                       Non-Null Count  Dtype   \n",
      "---  ------                       --------------  -----   \n",
      " 0   category                     5267 non-null   object  \n",
      " 1   scientific_name              5267 non-null   object  \n",
      " 2   common_names                 5267 non-null   object  \n",
      " 3   conservation_status          5267 non-null   category\n",
      " 4   numeric_conservation_status  5267 non-null   int8    \n",
      "dtypes: category(1), int8(1), object(3)\n",
      "memory usage: 134.1+ KB\n"
     ]
    }
   ],
   "source": [
    "spec_info.info()"
   ]
  },
  {
   "cell_type": "markdown",
   "metadata": {},
   "source": [
    "# Analysis\n",
    "This section will begin analyzing the data after the initial exploration. First task will be to clean and explore the `conservation_status` column in `species`. \n",
    "\n",
    "The column `conservation_status` has several possible values:\n",
    "- `Species of Concern`: declining or appear to be in need of conservation\n",
    "- `Threatened`: vulnerable to endangerment in the near future\n",
    "- `Endangered`: seriously at risk of extinction\n",
    "- `In Recovery`: formerly `Endangered`, but currently neither in danger of extinction throughout all or a significant portion of its range\n",
    "\n",
    "In the exploration, a lot of `nan` values were detected. These values will need to be converted to `No Concern`."
   ]
  },
  {
   "cell_type": "code",
   "execution_count": null,
   "metadata": {},
   "outputs": [],
   "source": []
  },
  {
   "cell_type": "code",
   "execution_count": 34,
   "metadata": {},
   "outputs": [
    {
     "name": "stdout",
     "output_type": "stream",
     "text": [
      "Categories of species: ['Mammal' 'Bird' 'Reptile' 'Amphibian' 'Fish' 'Vascular Plant'\n",
      " 'Nonvascular Plant']\n"
     ]
    }
   ],
   "source": [
    "species = spec_info.category.unique()\n",
    "print(f'Categories of species: {species}')"
   ]
  },
  {
   "cell_type": "code",
   "execution_count": 35,
   "metadata": {},
   "outputs": [
    {
     "data": {
      "text/html": [
       "<div>\n",
       "<style scoped>\n",
       "    .dataframe tbody tr th:only-of-type {\n",
       "        vertical-align: middle;\n",
       "    }\n",
       "\n",
       "    .dataframe tbody tr th {\n",
       "        vertical-align: top;\n",
       "    }\n",
       "\n",
       "    .dataframe thead th {\n",
       "        text-align: right;\n",
       "    }\n",
       "</style>\n",
       "<table border=\"1\" class=\"dataframe\">\n",
       "  <thead>\n",
       "    <tr style=\"text-align: right;\">\n",
       "      <th>category</th>\n",
       "      <th>Amphibian</th>\n",
       "      <th>Bird</th>\n",
       "      <th>Fish</th>\n",
       "      <th>Mammal</th>\n",
       "      <th>Nonvascular Plant</th>\n",
       "      <th>Reptile</th>\n",
       "      <th>Vascular Plant</th>\n",
       "    </tr>\n",
       "    <tr>\n",
       "      <th>conservation_status</th>\n",
       "      <th></th>\n",
       "      <th></th>\n",
       "      <th></th>\n",
       "      <th></th>\n",
       "      <th></th>\n",
       "      <th></th>\n",
       "      <th></th>\n",
       "    </tr>\n",
       "  </thead>\n",
       "  <tbody>\n",
       "    <tr>\n",
       "      <th>Species of Concern</th>\n",
       "      <td>4</td>\n",
       "      <td>64</td>\n",
       "      <td>4</td>\n",
       "      <td>17</td>\n",
       "      <td>5</td>\n",
       "      <td>5</td>\n",
       "      <td>43</td>\n",
       "    </tr>\n",
       "    <tr>\n",
       "      <th>Threatened</th>\n",
       "      <td>2</td>\n",
       "      <td>0</td>\n",
       "      <td>3</td>\n",
       "      <td>2</td>\n",
       "      <td>0</td>\n",
       "      <td>0</td>\n",
       "      <td>2</td>\n",
       "    </tr>\n",
       "    <tr>\n",
       "      <th>In Recovery</th>\n",
       "      <td>0</td>\n",
       "      <td>3</td>\n",
       "      <td>0</td>\n",
       "      <td>0</td>\n",
       "      <td>0</td>\n",
       "      <td>0</td>\n",
       "      <td>0</td>\n",
       "    </tr>\n",
       "    <tr>\n",
       "      <th>Endangered</th>\n",
       "      <td>1</td>\n",
       "      <td>4</td>\n",
       "      <td>3</td>\n",
       "      <td>5</td>\n",
       "      <td>0</td>\n",
       "      <td>0</td>\n",
       "      <td>1</td>\n",
       "    </tr>\n",
       "  </tbody>\n",
       "</table>\n",
       "</div>"
      ],
      "text/plain": [
       "category             Amphibian  Bird  Fish  Mammal  Nonvascular Plant  \\\n",
       "conservation_status                                                     \n",
       "Species of Concern           4    64     4      17                  5   \n",
       "Threatened                   2     0     3       2                  0   \n",
       "In Recovery                  0     3     0       0                  0   \n",
       "Endangered                   1     4     3       5                  0   \n",
       "\n",
       "category             Reptile  Vascular Plant  \n",
       "conservation_status                           \n",
       "Species of Concern         5              43  \n",
       "Threatened                 0               2  \n",
       "In Recovery                0               0  \n",
       "Endangered                 0               1  "
      ]
     },
     "execution_count": 35,
     "metadata": {},
     "output_type": "execute_result"
    }
   ],
   "source": [
    "conservationCategory = spec_info[spec_info.conservation_status != \"No Concern\"]\\\n",
    "    .groupby([\"conservation_status\", \"category\"])['scientific_name']\\\n",
    "    .count()\\\n",
    "    .unstack()\n",
    "    \n",
    "\n",
    "conservationCategory.drop('No Concern', inplace = True)\n",
    "conservationCategory"
   ]
  },
  {
   "cell_type": "code",
   "execution_count": 36,
   "metadata": {},
   "outputs": [
    {
     "data": {
      "image/png": "[encoded data removed]",
      "text/plain": [
       "<Figure size 1296x792 with 7 Axes>"
      ]
     },
     "metadata": {
      "needs_background": "light"
     },
     "output_type": "display_data"
    }
   ],
   "source": [
    "%matplotlib inline\n",
    "fig, ax = plt.subplots(figsize = (18,11),ncols = 3, nrows = 3)\n",
    "for row in range(3):\n",
    "    for col in range(3):\n",
    "        if row*3+col >= len(species):\n",
    "            ax[row,col].remove()\n",
    "            continue\n",
    "        species_index = species[row*3+col]\n",
    "        sns.countplot(data = spec_info[spec_info.category == species_index], x = 'conservation_status', ax = ax[row,col])\n",
    "        ax[row,col].set_xticklabels(labels = status_cat,rotation = 30)\n",
    "        ax[row,col].set_xlabel(species_index)\n",
    "        ax[row,col].set_ylabel('')\n",
    "plt.tight_layout()\n",
    "plt.savefig(\"asdf.jpg\")"
   ]
  },
  {
   "cell_type": "markdown",
   "metadata": {},
   "source": [
    "<div class=\"alert alert-block alert-info\">\n",
    "<b>Tip:</b> No concern species cover almost entire data. So let drop them!\n",
    "</div>"
   ]
  },
  {
   "cell_type": "code",
   "execution_count": 37,
   "metadata": {},
   "outputs": [
    {
     "data": {
      "text/plain": [
       "Text(0, 0.5, 'Number of Species')"
      ]
     },
     "execution_count": 37,
     "metadata": {},
     "output_type": "execute_result"
    },
    {
     "data": {
      "image/png": "[encoded data removed]",
      "text/plain": [
       "<Figure size 576x432 with 1 Axes>"
      ]
     },
     "metadata": {
      "needs_background": "light"
     },
     "output_type": "display_data"
    }
   ],
   "source": [
    "ax = conservationCategory.plot(kind = 'bar', figsize=(8,6), \n",
    "                               stacked=True)\n",
    "ax.set_xlabel(\"Conservation Status\")\n",
    "ax.set_ylabel(\"Number of Species\")"
   ]
  },
  {
   "cell_type": "markdown",
   "metadata": {},
   "source": [
    "#### How many of each of category species need protection ?"
   ]
  },
  {
   "cell_type": "code",
   "execution_count": 38,
   "metadata": {},
   "outputs": [],
   "source": [
    "spec_info['need_protection'] = spec_info.conservation_status != 'No Concern'"
   ]
  },
  {
   "cell_type": "code",
   "execution_count": 39,
   "metadata": {},
   "outputs": [
    {
     "data": {
      "text/html": [
       "<div>\n",
       "<style scoped>\n",
       "    .dataframe tbody tr th:only-of-type {\n",
       "        vertical-align: middle;\n",
       "    }\n",
       "\n",
       "    .dataframe tbody tr th {\n",
       "        vertical-align: top;\n",
       "    }\n",
       "\n",
       "    .dataframe thead th {\n",
       "        text-align: right;\n",
       "    }\n",
       "</style>\n",
       "<table border=\"1\" class=\"dataframe\">\n",
       "  <thead>\n",
       "    <tr style=\"text-align: right;\">\n",
       "      <th></th>\n",
       "      <th>category</th>\n",
       "      <th>need_protection</th>\n",
       "      <th>count</th>\n",
       "    </tr>\n",
       "  </thead>\n",
       "  <tbody>\n",
       "    <tr>\n",
       "      <th>0</th>\n",
       "      <td>Amphibian</td>\n",
       "      <td>False</td>\n",
       "      <td>71</td>\n",
       "    </tr>\n",
       "    <tr>\n",
       "      <th>1</th>\n",
       "      <td>Amphibian</td>\n",
       "      <td>True</td>\n",
       "      <td>7</td>\n",
       "    </tr>\n",
       "    <tr>\n",
       "      <th>2</th>\n",
       "      <td>Bird</td>\n",
       "      <td>False</td>\n",
       "      <td>386</td>\n",
       "    </tr>\n",
       "    <tr>\n",
       "      <th>3</th>\n",
       "      <td>Bird</td>\n",
       "      <td>True</td>\n",
       "      <td>71</td>\n",
       "    </tr>\n",
       "    <tr>\n",
       "      <th>4</th>\n",
       "      <td>Fish</td>\n",
       "      <td>False</td>\n",
       "      <td>113</td>\n",
       "    </tr>\n",
       "    <tr>\n",
       "      <th>5</th>\n",
       "      <td>Fish</td>\n",
       "      <td>True</td>\n",
       "      <td>10</td>\n",
       "    </tr>\n",
       "    <tr>\n",
       "      <th>6</th>\n",
       "      <td>Mammal</td>\n",
       "      <td>False</td>\n",
       "      <td>119</td>\n",
       "    </tr>\n",
       "    <tr>\n",
       "      <th>7</th>\n",
       "      <td>Mammal</td>\n",
       "      <td>True</td>\n",
       "      <td>24</td>\n",
       "    </tr>\n",
       "    <tr>\n",
       "      <th>8</th>\n",
       "      <td>Nonvascular Plant</td>\n",
       "      <td>False</td>\n",
       "      <td>328</td>\n",
       "    </tr>\n",
       "    <tr>\n",
       "      <th>9</th>\n",
       "      <td>Nonvascular Plant</td>\n",
       "      <td>True</td>\n",
       "      <td>5</td>\n",
       "    </tr>\n",
       "    <tr>\n",
       "      <th>10</th>\n",
       "      <td>Reptile</td>\n",
       "      <td>False</td>\n",
       "      <td>72</td>\n",
       "    </tr>\n",
       "    <tr>\n",
       "      <th>11</th>\n",
       "      <td>Reptile</td>\n",
       "      <td>True</td>\n",
       "      <td>5</td>\n",
       "    </tr>\n",
       "    <tr>\n",
       "      <th>12</th>\n",
       "      <td>Vascular Plant</td>\n",
       "      <td>False</td>\n",
       "      <td>4010</td>\n",
       "    </tr>\n",
       "    <tr>\n",
       "      <th>13</th>\n",
       "      <td>Vascular Plant</td>\n",
       "      <td>True</td>\n",
       "      <td>46</td>\n",
       "    </tr>\n",
       "  </tbody>\n",
       "</table>\n",
       "</div>"
      ],
      "text/plain": [
       "             category  need_protection  count\n",
       "0           Amphibian            False     71\n",
       "1           Amphibian             True      7\n",
       "2                Bird            False    386\n",
       "3                Bird             True     71\n",
       "4                Fish            False    113\n",
       "5                Fish             True     10\n",
       "6              Mammal            False    119\n",
       "7              Mammal             True     24\n",
       "8   Nonvascular Plant            False    328\n",
       "9   Nonvascular Plant             True      5\n",
       "10            Reptile            False     72\n",
       "11            Reptile             True      5\n",
       "12     Vascular Plant            False   4010\n",
       "13     Vascular Plant             True     46"
      ]
     },
     "execution_count": 39,
     "metadata": {},
     "output_type": "execute_result"
    }
   ],
   "source": [
    "category_counts = spec_info.groupby(['category', 'need_protection']).scientific_name.count().reset_index().rename(columns = {'scientific_name': 'count'})\n",
    "category_counts"
   ]
  },
  {
   "cell_type": "code",
   "execution_count": 40,
   "metadata": {},
   "outputs": [],
   "source": [
    "category_counts = spec_info.groupby(['category', 'need_protection'])\\\n",
    "                        .scientific_name.count()\\\n",
    "                        .reset_index()\\\n",
    "                        .pivot(columns='need_protection',\n",
    "                                      index='category',\n",
    "                                      values='scientific_name')\\\n",
    "                        .reset_index()\n",
    "category_counts.columns = ['category', 'no_need_protection', 'need_protection']"
   ]
  },
  {
   "cell_type": "code",
   "execution_count": 41,
   "metadata": {},
   "outputs": [
    {
     "data": {
      "text/html": [
       "<div>\n",
       "<style scoped>\n",
       "    .dataframe tbody tr th:only-of-type {\n",
       "        vertical-align: middle;\n",
       "    }\n",
       "\n",
       "    .dataframe tbody tr th {\n",
       "        vertical-align: top;\n",
       "    }\n",
       "\n",
       "    .dataframe thead th {\n",
       "        text-align: right;\n",
       "    }\n",
       "</style>\n",
       "<table border=\"1\" class=\"dataframe\">\n",
       "  <thead>\n",
       "    <tr style=\"text-align: right;\">\n",
       "      <th></th>\n",
       "      <th>category</th>\n",
       "      <th>no_need_protection</th>\n",
       "      <th>need_protection</th>\n",
       "    </tr>\n",
       "  </thead>\n",
       "  <tbody>\n",
       "    <tr>\n",
       "      <th>0</th>\n",
       "      <td>Amphibian</td>\n",
       "      <td>71</td>\n",
       "      <td>7</td>\n",
       "    </tr>\n",
       "    <tr>\n",
       "      <th>1</th>\n",
       "      <td>Bird</td>\n",
       "      <td>386</td>\n",
       "      <td>71</td>\n",
       "    </tr>\n",
       "    <tr>\n",
       "      <th>2</th>\n",
       "      <td>Fish</td>\n",
       "      <td>113</td>\n",
       "      <td>10</td>\n",
       "    </tr>\n",
       "    <tr>\n",
       "      <th>3</th>\n",
       "      <td>Mammal</td>\n",
       "      <td>119</td>\n",
       "      <td>24</td>\n",
       "    </tr>\n",
       "    <tr>\n",
       "      <th>4</th>\n",
       "      <td>Nonvascular Plant</td>\n",
       "      <td>328</td>\n",
       "      <td>5</td>\n",
       "    </tr>\n",
       "    <tr>\n",
       "      <th>5</th>\n",
       "      <td>Reptile</td>\n",
       "      <td>72</td>\n",
       "      <td>5</td>\n",
       "    </tr>\n",
       "    <tr>\n",
       "      <th>6</th>\n",
       "      <td>Vascular Plant</td>\n",
       "      <td>4010</td>\n",
       "      <td>46</td>\n",
       "    </tr>\n",
       "  </tbody>\n",
       "</table>\n",
       "</div>"
      ],
      "text/plain": [
       "            category  no_need_protection  need_protection\n",
       "0          Amphibian                  71                7\n",
       "1               Bird                 386               71\n",
       "2               Fish                 113               10\n",
       "3             Mammal                 119               24\n",
       "4  Nonvascular Plant                 328                5\n",
       "5            Reptile                  72                5\n",
       "6     Vascular Plant                4010               46"
      ]
     },
     "execution_count": 41,
     "metadata": {},
     "output_type": "execute_result"
    }
   ],
   "source": [
    "category_counts"
   ]
  },
  {
   "cell_type": "code",
   "execution_count": 42,
   "metadata": {},
   "outputs": [
    {
     "data": {
      "text/html": [
       "<div>\n",
       "<style scoped>\n",
       "    .dataframe tbody tr th:only-of-type {\n",
       "        vertical-align: middle;\n",
       "    }\n",
       "\n",
       "    .dataframe tbody tr th {\n",
       "        vertical-align: top;\n",
       "    }\n",
       "\n",
       "    .dataframe thead th {\n",
       "        text-align: right;\n",
       "    }\n",
       "</style>\n",
       "<table border=\"1\" class=\"dataframe\">\n",
       "  <thead>\n",
       "    <tr style=\"text-align: right;\">\n",
       "      <th>need_protection</th>\n",
       "      <th>False</th>\n",
       "      <th>True</th>\n",
       "    </tr>\n",
       "    <tr>\n",
       "      <th>category</th>\n",
       "      <th></th>\n",
       "      <th></th>\n",
       "    </tr>\n",
       "  </thead>\n",
       "  <tbody>\n",
       "    <tr>\n",
       "      <th>Amphibian</th>\n",
       "      <td>71</td>\n",
       "      <td>7</td>\n",
       "    </tr>\n",
       "    <tr>\n",
       "      <th>Bird</th>\n",
       "      <td>386</td>\n",
       "      <td>71</td>\n",
       "    </tr>\n",
       "    <tr>\n",
       "      <th>Fish</th>\n",
       "      <td>113</td>\n",
       "      <td>10</td>\n",
       "    </tr>\n",
       "    <tr>\n",
       "      <th>Mammal</th>\n",
       "      <td>119</td>\n",
       "      <td>24</td>\n",
       "    </tr>\n",
       "    <tr>\n",
       "      <th>Nonvascular Plant</th>\n",
       "      <td>328</td>\n",
       "      <td>5</td>\n",
       "    </tr>\n",
       "    <tr>\n",
       "      <th>Reptile</th>\n",
       "      <td>72</td>\n",
       "      <td>5</td>\n",
       "    </tr>\n",
       "    <tr>\n",
       "      <th>Vascular Plant</th>\n",
       "      <td>4010</td>\n",
       "      <td>46</td>\n",
       "    </tr>\n",
       "  </tbody>\n",
       "</table>\n",
       "</div>"
      ],
      "text/plain": [
       "need_protection    False  True \n",
       "category                       \n",
       "Amphibian             71      7\n",
       "Bird                 386     71\n",
       "Fish                 113     10\n",
       "Mammal               119     24\n",
       "Nonvascular Plant    328      5\n",
       "Reptile               72      5\n",
       "Vascular Plant      4010     46"
      ]
     },
     "execution_count": 42,
     "metadata": {},
     "output_type": "execute_result"
    }
   ],
   "source": [
    "Xtab = pd.crosstab(spec_info.category, spec_info.need_protection)\n",
    "Xtab"
   ]
  },
  {
   "cell_type": "code",
   "execution_count": 43,
   "metadata": {},
   "outputs": [
    {
     "data": {
      "text/plain": [
       "2.8777294413515337e-81"
      ]
     },
     "execution_count": 43,
     "metadata": {},
     "output_type": "execute_result"
    }
   ],
   "source": [
    "chi2, pval, dof, expected = chi2_contingency(Xtab)\n",
    "pval"
   ]
  },
  {
   "cell_type": "code",
   "execution_count": 44,
   "metadata": {},
   "outputs": [
    {
     "data": {
      "text/html": [
       "<div>\n",
       "<style scoped>\n",
       "    .dataframe tbody tr th:only-of-type {\n",
       "        vertical-align: middle;\n",
       "    }\n",
       "\n",
       "    .dataframe tbody tr th {\n",
       "        vertical-align: top;\n",
       "    }\n",
       "\n",
       "    .dataframe thead th {\n",
       "        text-align: right;\n",
       "    }\n",
       "</style>\n",
       "<table border=\"1\" class=\"dataframe\">\n",
       "  <thead>\n",
       "    <tr style=\"text-align: right;\">\n",
       "      <th></th>\n",
       "      <th>category</th>\n",
       "      <th>no_need_protection</th>\n",
       "      <th>need_protection</th>\n",
       "      <th>percent_need_protection</th>\n",
       "    </tr>\n",
       "  </thead>\n",
       "  <tbody>\n",
       "    <tr>\n",
       "      <th>6</th>\n",
       "      <td>Vascular Plant</td>\n",
       "      <td>4010</td>\n",
       "      <td>46</td>\n",
       "      <td>1.134122</td>\n",
       "    </tr>\n",
       "    <tr>\n",
       "      <th>4</th>\n",
       "      <td>Nonvascular Plant</td>\n",
       "      <td>328</td>\n",
       "      <td>5</td>\n",
       "      <td>1.501502</td>\n",
       "    </tr>\n",
       "    <tr>\n",
       "      <th>5</th>\n",
       "      <td>Reptile</td>\n",
       "      <td>72</td>\n",
       "      <td>5</td>\n",
       "      <td>6.493506</td>\n",
       "    </tr>\n",
       "    <tr>\n",
       "      <th>2</th>\n",
       "      <td>Fish</td>\n",
       "      <td>113</td>\n",
       "      <td>10</td>\n",
       "      <td>8.130081</td>\n",
       "    </tr>\n",
       "    <tr>\n",
       "      <th>0</th>\n",
       "      <td>Amphibian</td>\n",
       "      <td>71</td>\n",
       "      <td>7</td>\n",
       "      <td>8.974359</td>\n",
       "    </tr>\n",
       "    <tr>\n",
       "      <th>1</th>\n",
       "      <td>Bird</td>\n",
       "      <td>386</td>\n",
       "      <td>71</td>\n",
       "      <td>15.536105</td>\n",
       "    </tr>\n",
       "    <tr>\n",
       "      <th>3</th>\n",
       "      <td>Mammal</td>\n",
       "      <td>119</td>\n",
       "      <td>24</td>\n",
       "      <td>16.783217</td>\n",
       "    </tr>\n",
       "  </tbody>\n",
       "</table>\n",
       "</div>"
      ],
      "text/plain": [
       "            category  no_need_protection  need_protection  \\\n",
       "6     Vascular Plant                4010               46   \n",
       "4  Nonvascular Plant                 328                5   \n",
       "5            Reptile                  72                5   \n",
       "2               Fish                 113               10   \n",
       "0          Amphibian                  71                7   \n",
       "1               Bird                 386               71   \n",
       "3             Mammal                 119               24   \n",
       "\n",
       "   percent_need_protection  \n",
       "6                 1.134122  \n",
       "4                 1.501502  \n",
       "5                 6.493506  \n",
       "2                 8.130081  \n",
       "0                 8.974359  \n",
       "1                15.536105  \n",
       "3                16.783217  "
      ]
     },
     "execution_count": 44,
     "metadata": {},
     "output_type": "execute_result"
    }
   ],
   "source": [
    "category_counts['percent_need_protection'] = category_counts.need_protection / \\\n",
    "                                      (category_counts.need_protection + category_counts.no_need_protection) * 100\n",
    "\n",
    "\n",
    "\n",
    "category_counts.sort_values('percent_need_protection')"
   ]
  },
  {
   "cell_type": "code",
   "execution_count": 45,
   "metadata": {},
   "outputs": [],
   "source": [
    "expected_category_counts = pd.DataFrame({'Category': category_counts.category,\n",
    "                                          'no_need_protection': expected[:,0],\n",
    "                                          'need_protection': expected[:,1]})"
   ]
  },
  {
   "cell_type": "code",
   "execution_count": 46,
   "metadata": {},
   "outputs": [
    {
     "data": {
      "text/html": [
       "<div>\n",
       "<style scoped>\n",
       "    .dataframe tbody tr th:only-of-type {\n",
       "        vertical-align: middle;\n",
       "    }\n",
       "\n",
       "    .dataframe tbody tr th {\n",
       "        vertical-align: top;\n",
       "    }\n",
       "\n",
       "    .dataframe thead th {\n",
       "        text-align: right;\n",
       "    }\n",
       "</style>\n",
       "<table border=\"1\" class=\"dataframe\">\n",
       "  <thead>\n",
       "    <tr style=\"text-align: right;\">\n",
       "      <th></th>\n",
       "      <th>Category</th>\n",
       "      <th>no_need_protection</th>\n",
       "      <th>need_protection</th>\n",
       "    </tr>\n",
       "  </thead>\n",
       "  <tbody>\n",
       "    <tr>\n",
       "      <th>5</th>\n",
       "      <td>Reptile</td>\n",
       "      <td>74.543953</td>\n",
       "      <td>2.456047</td>\n",
       "    </tr>\n",
       "    <tr>\n",
       "      <th>0</th>\n",
       "      <td>Amphibian</td>\n",
       "      <td>75.512056</td>\n",
       "      <td>2.487944</td>\n",
       "    </tr>\n",
       "    <tr>\n",
       "      <th>2</th>\n",
       "      <td>Fish</td>\n",
       "      <td>119.076704</td>\n",
       "      <td>3.923296</td>\n",
       "    </tr>\n",
       "    <tr>\n",
       "      <th>3</th>\n",
       "      <td>Mammal</td>\n",
       "      <td>138.438770</td>\n",
       "      <td>4.561230</td>\n",
       "    </tr>\n",
       "    <tr>\n",
       "      <th>4</th>\n",
       "      <td>Nonvascular Plant</td>\n",
       "      <td>322.378394</td>\n",
       "      <td>10.621606</td>\n",
       "    </tr>\n",
       "    <tr>\n",
       "      <th>1</th>\n",
       "      <td>Bird</td>\n",
       "      <td>442.423201</td>\n",
       "      <td>14.576799</td>\n",
       "    </tr>\n",
       "    <tr>\n",
       "      <th>6</th>\n",
       "      <td>Vascular Plant</td>\n",
       "      <td>3926.626922</td>\n",
       "      <td>129.373078</td>\n",
       "    </tr>\n",
       "  </tbody>\n",
       "</table>\n",
       "</div>"
      ],
      "text/plain": [
       "            Category  no_need_protection  need_protection\n",
       "5            Reptile           74.543953         2.456047\n",
       "0          Amphibian           75.512056         2.487944\n",
       "2               Fish          119.076704         3.923296\n",
       "3             Mammal          138.438770         4.561230\n",
       "4  Nonvascular Plant          322.378394        10.621606\n",
       "1               Bird          442.423201        14.576799\n",
       "6     Vascular Plant         3926.626922       129.373078"
      ]
     },
     "execution_count": 46,
     "metadata": {},
     "output_type": "execute_result"
    }
   ],
   "source": [
    "expected_category_counts.sort_values('need_protection')"
   ]
  },
  {
   "cell_type": "markdown",
   "metadata": {},
   "source": [
    "## I wonder which animals or plants has the most number of kinds in this data"
   ]
  },
  {
   "cell_type": "code",
   "execution_count": 47,
   "metadata": {},
   "outputs": [],
   "source": [
    "def remove_punctuation(text):      # I want to remove useless punctuation\n",
    "    for i in string.punctuation:\n",
    "        text = text.replace(i,'')\n",
    "    return text\n"
   ]
  },
  {
   "cell_type": "code",
   "execution_count": 48,
   "metadata": {},
   "outputs": [],
   "source": [
    "counts_list = []\n",
    "for cat in spec_info.category.unique(): #loop through every kind of species\n",
    "    common = spec_info[spec_info.category == cat].common_names.apply(remove_punctuation).str.split().tolist() #split every word of strings\n",
    "    cleanRows = []\n",
    "    for item in common:\n",
    "        item = list(dict.fromkeys(item)) #drop duplicate words in every item\n",
    "        cleanRows.append(item)\n",
    "    res = list(chain.from_iterable(i if isinstance(i,list) else [i] for i in cleanRows)) #make every single word as an item(ex. [[I, love, coding]] -> [[I],[love],[coding]])\n",
    "    for i in set(res) :                        #Then count ever word in res list\n",
    "        count = res.count(i)\n",
    "        counts_list.append((i, count,cat))\n",
    "\n",
    "    "
   ]
  },
  {
   "cell_type": "code",
   "execution_count": 49,
   "metadata": {},
   "outputs": [],
   "source": [
    "df = pd.DataFrame(set(counts_list), columns=['word','counts','kind'], )\\\n",
    "                .sort_values('counts', ascending = False)\\\n",
    "                .reset_index(drop = True)"
   ]
  },
  {
   "cell_type": "code",
   "execution_count": 50,
   "metadata": {},
   "outputs": [
    {
     "data": {
      "text/html": [
       "<div>\n",
       "<style scoped>\n",
       "    .dataframe tbody tr th:only-of-type {\n",
       "        vertical-align: middle;\n",
       "    }\n",
       "\n",
       "    .dataframe tbody tr th {\n",
       "        vertical-align: top;\n",
       "    }\n",
       "\n",
       "    .dataframe thead th {\n",
       "        text-align: right;\n",
       "    }\n",
       "</style>\n",
       "<table border=\"1\" class=\"dataframe\">\n",
       "  <thead>\n",
       "    <tr style=\"text-align: right;\">\n",
       "      <th></th>\n",
       "      <th>word</th>\n",
       "      <th>counts</th>\n",
       "      <th>kind</th>\n",
       "    </tr>\n",
       "  </thead>\n",
       "  <tbody>\n",
       "    <tr>\n",
       "      <th>0</th>\n",
       "      <td>Moss</td>\n",
       "      <td>280</td>\n",
       "      <td>Nonvascular Plant</td>\n",
       "    </tr>\n",
       "    <tr>\n",
       "      <th>1</th>\n",
       "      <td>Sedge</td>\n",
       "      <td>221</td>\n",
       "      <td>Vascular Plant</td>\n",
       "    </tr>\n",
       "    <tr>\n",
       "      <th>2</th>\n",
       "      <td>Mountain</td>\n",
       "      <td>121</td>\n",
       "      <td>Vascular Plant</td>\n",
       "    </tr>\n",
       "    <tr>\n",
       "      <th>3</th>\n",
       "      <td>Grass</td>\n",
       "      <td>102</td>\n",
       "      <td>Vascular Plant</td>\n",
       "    </tr>\n",
       "    <tr>\n",
       "      <th>4</th>\n",
       "      <td>Common</td>\n",
       "      <td>100</td>\n",
       "      <td>Vascular Plant</td>\n",
       "    </tr>\n",
       "    <tr>\n",
       "      <th>5</th>\n",
       "      <td>Western</td>\n",
       "      <td>81</td>\n",
       "      <td>Vascular Plant</td>\n",
       "    </tr>\n",
       "    <tr>\n",
       "      <th>6</th>\n",
       "      <td>White</td>\n",
       "      <td>81</td>\n",
       "      <td>Vascular Plant</td>\n",
       "    </tr>\n",
       "    <tr>\n",
       "      <th>7</th>\n",
       "      <td>Yellow</td>\n",
       "      <td>67</td>\n",
       "      <td>Vascular Plant</td>\n",
       "    </tr>\n",
       "    <tr>\n",
       "      <th>8</th>\n",
       "      <td>American</td>\n",
       "      <td>65</td>\n",
       "      <td>Vascular Plant</td>\n",
       "    </tr>\n",
       "    <tr>\n",
       "      <th>9</th>\n",
       "      <td>Sierra</td>\n",
       "      <td>63</td>\n",
       "      <td>Vascular Plant</td>\n",
       "    </tr>\n",
       "  </tbody>\n",
       "</table>\n",
       "</div>"
      ],
      "text/plain": [
       "       word  counts               kind\n",
       "0      Moss     280  Nonvascular Plant\n",
       "1     Sedge     221     Vascular Plant\n",
       "2  Mountain     121     Vascular Plant\n",
       "3     Grass     102     Vascular Plant\n",
       "4    Common     100     Vascular Plant\n",
       "5   Western      81     Vascular Plant\n",
       "6     White      81     Vascular Plant\n",
       "7    Yellow      67     Vascular Plant\n",
       "8  American      65     Vascular Plant\n",
       "9    Sierra      63     Vascular Plant"
      ]
     },
     "execution_count": 50,
     "metadata": {},
     "output_type": "execute_result"
    }
   ],
   "source": [
    "df.head(10)"
   ]
  },
  {
   "cell_type": "code",
   "execution_count": 51,
   "metadata": {},
   "outputs": [
    {
     "data": {
      "text/plain": [
       "array(['Mammal', 'Bird', 'Reptile', 'Amphibian', 'Fish', 'Vascular Plant',\n",
       "       'Nonvascular Plant'], dtype=object)"
      ]
     },
     "execution_count": 51,
     "metadata": {},
     "output_type": "execute_result"
    }
   ],
   "source": [
    "spec_info.category.unique()"
   ]
  },
  {
   "cell_type": "code",
   "execution_count": 52,
   "metadata": {},
   "outputs": [],
   "source": [
    "animals = spec_info.category.unique()[:-2]\n",
    "plants = spec_info.category.unique()[-2:]"
   ]
  },
  {
   "cell_type": "markdown",
   "metadata": {},
   "source": [
    "#### Warbler is the most popular kind of bird"
   ]
  },
  {
   "cell_type": "code",
   "execution_count": 53,
   "metadata": {},
   "outputs": [
    {
     "data": {
      "text/html": [
       "<div>\n",
       "<style scoped>\n",
       "    .dataframe tbody tr th:only-of-type {\n",
       "        vertical-align: middle;\n",
       "    }\n",
       "\n",
       "    .dataframe tbody tr th {\n",
       "        vertical-align: top;\n",
       "    }\n",
       "\n",
       "    .dataframe thead th {\n",
       "        text-align: right;\n",
       "    }\n",
       "</style>\n",
       "<table border=\"1\" class=\"dataframe\">\n",
       "  <thead>\n",
       "    <tr style=\"text-align: right;\">\n",
       "      <th></th>\n",
       "      <th>word</th>\n",
       "      <th>counts</th>\n",
       "      <th>kind</th>\n",
       "    </tr>\n",
       "  </thead>\n",
       "  <tbody>\n",
       "    <tr>\n",
       "      <th>13</th>\n",
       "      <td>Warbler</td>\n",
       "      <td>59</td>\n",
       "      <td>Bird</td>\n",
       "    </tr>\n",
       "    <tr>\n",
       "      <th>28</th>\n",
       "      <td>Salamander</td>\n",
       "      <td>41</td>\n",
       "      <td>Amphibian</td>\n",
       "    </tr>\n",
       "    <tr>\n",
       "      <th>46</th>\n",
       "      <td>Snake</td>\n",
       "      <td>27</td>\n",
       "      <td>Reptile</td>\n",
       "    </tr>\n",
       "    <tr>\n",
       "      <th>47</th>\n",
       "      <td>Sparrow</td>\n",
       "      <td>27</td>\n",
       "      <td>Bird</td>\n",
       "    </tr>\n",
       "    <tr>\n",
       "      <th>84</th>\n",
       "      <td>Shiner</td>\n",
       "      <td>20</td>\n",
       "      <td>Fish</td>\n",
       "    </tr>\n",
       "    <tr>\n",
       "      <th>87</th>\n",
       "      <td>Darter</td>\n",
       "      <td>19</td>\n",
       "      <td>Fish</td>\n",
       "    </tr>\n",
       "    <tr>\n",
       "      <th>91</th>\n",
       "      <td>American</td>\n",
       "      <td>19</td>\n",
       "      <td>Bird</td>\n",
       "    </tr>\n",
       "    <tr>\n",
       "      <th>108</th>\n",
       "      <td>Flycatcher</td>\n",
       "      <td>16</td>\n",
       "      <td>Bird</td>\n",
       "    </tr>\n",
       "    <tr>\n",
       "      <th>134</th>\n",
       "      <td>Mouse</td>\n",
       "      <td>14</td>\n",
       "      <td>Mammal</td>\n",
       "    </tr>\n",
       "    <tr>\n",
       "      <th>135</th>\n",
       "      <td>Northern</td>\n",
       "      <td>14</td>\n",
       "      <td>Reptile</td>\n",
       "    </tr>\n",
       "  </tbody>\n",
       "</table>\n",
       "</div>"
      ],
      "text/plain": [
       "           word  counts       kind\n",
       "13      Warbler      59       Bird\n",
       "28   Salamander      41  Amphibian\n",
       "46        Snake      27    Reptile\n",
       "47      Sparrow      27       Bird\n",
       "84       Shiner      20       Fish\n",
       "87       Darter      19       Fish\n",
       "91     American      19       Bird\n",
       "108  Flycatcher      16       Bird\n",
       "134       Mouse      14     Mammal\n",
       "135    Northern      14    Reptile"
      ]
     },
     "execution_count": 53,
     "metadata": {},
     "output_type": "execute_result"
    }
   ],
   "source": [
    "df[df.kind.isin(animals)][:10]"
   ]
  },
  {
   "cell_type": "code",
   "execution_count": 54,
   "metadata": {},
   "outputs": [],
   "source": [
    "warbler_info = spec_info[spec_info.common_names.str.contains(r\"\\bWarbler\\b\", regex = True)]"
   ]
  },
  {
   "cell_type": "code",
   "execution_count": 55,
   "metadata": {},
   "outputs": [
    {
     "data": {
      "text/plain": [
       "59"
      ]
     },
     "execution_count": 55,
     "metadata": {},
     "output_type": "execute_result"
    }
   ],
   "source": [
    "len(warbler_info)"
   ]
  },
  {
   "cell_type": "code",
   "execution_count": 56,
   "metadata": {},
   "outputs": [
    {
     "data": {
      "text/html": [
       "<div>\n",
       "<style scoped>\n",
       "    .dataframe tbody tr th:only-of-type {\n",
       "        vertical-align: middle;\n",
       "    }\n",
       "\n",
       "    .dataframe tbody tr th {\n",
       "        vertical-align: top;\n",
       "    }\n",
       "\n",
       "    .dataframe thead th {\n",
       "        text-align: right;\n",
       "    }\n",
       "</style>\n",
       "<table border=\"1\" class=\"dataframe\">\n",
       "  <thead>\n",
       "    <tr style=\"text-align: right;\">\n",
       "      <th></th>\n",
       "      <th>category</th>\n",
       "      <th>scientific_name</th>\n",
       "      <th>common_names</th>\n",
       "      <th>conservation_status</th>\n",
       "      <th>numeric_conservation_status</th>\n",
       "      <th>need_protection</th>\n",
       "      <th>park_name</th>\n",
       "      <th>observations</th>\n",
       "    </tr>\n",
       "  </thead>\n",
       "  <tbody>\n",
       "    <tr>\n",
       "      <th>0</th>\n",
       "      <td>Bird</td>\n",
       "      <td>Vermivora pinus X chrysoptera</td>\n",
       "      <td>Brewster's Warbler</td>\n",
       "      <td>No Concern</td>\n",
       "      <td>0</td>\n",
       "      <td>False</td>\n",
       "      <td>Great Smoky Mountains National Park</td>\n",
       "      <td>98.0</td>\n",
       "    </tr>\n",
       "    <tr>\n",
       "      <th>1</th>\n",
       "      <td>Bird</td>\n",
       "      <td>Vermivora pinus X chrysoptera</td>\n",
       "      <td>Brewster's Warbler</td>\n",
       "      <td>No Concern</td>\n",
       "      <td>0</td>\n",
       "      <td>False</td>\n",
       "      <td>Yosemite National Park</td>\n",
       "      <td>136.0</td>\n",
       "    </tr>\n",
       "    <tr>\n",
       "      <th>2</th>\n",
       "      <td>Bird</td>\n",
       "      <td>Vermivora pinus X chrysoptera</td>\n",
       "      <td>Brewster's Warbler</td>\n",
       "      <td>No Concern</td>\n",
       "      <td>0</td>\n",
       "      <td>False</td>\n",
       "      <td>Yellowstone National Park</td>\n",
       "      <td>259.0</td>\n",
       "    </tr>\n",
       "    <tr>\n",
       "      <th>3</th>\n",
       "      <td>Bird</td>\n",
       "      <td>Vermivora pinus X chrysoptera</td>\n",
       "      <td>Brewster's Warbler</td>\n",
       "      <td>No Concern</td>\n",
       "      <td>0</td>\n",
       "      <td>False</td>\n",
       "      <td>Bryce National Park</td>\n",
       "      <td>89.0</td>\n",
       "    </tr>\n",
       "    <tr>\n",
       "      <th>4</th>\n",
       "      <td>Bird</td>\n",
       "      <td>Dendroica caerulescens</td>\n",
       "      <td>Black-Throated Blue Warbler</td>\n",
       "      <td>No Concern</td>\n",
       "      <td>0</td>\n",
       "      <td>False</td>\n",
       "      <td>Bryce National Park</td>\n",
       "      <td>94.0</td>\n",
       "    </tr>\n",
       "  </tbody>\n",
       "</table>\n",
       "</div>"
      ],
      "text/plain": [
       "  category                scientific_name                 common_names  \\\n",
       "0     Bird  Vermivora pinus X chrysoptera           Brewster's Warbler   \n",
       "1     Bird  Vermivora pinus X chrysoptera           Brewster's Warbler   \n",
       "2     Bird  Vermivora pinus X chrysoptera           Brewster's Warbler   \n",
       "3     Bird  Vermivora pinus X chrysoptera           Brewster's Warbler   \n",
       "4     Bird         Dendroica caerulescens  Black-Throated Blue Warbler   \n",
       "\n",
       "  conservation_status  numeric_conservation_status  need_protection  \\\n",
       "0          No Concern                            0            False   \n",
       "1          No Concern                            0            False   \n",
       "2          No Concern                            0            False   \n",
       "3          No Concern                            0            False   \n",
       "4          No Concern                            0            False   \n",
       "\n",
       "                             park_name  observations  \n",
       "0  Great Smoky Mountains National Park          98.0  \n",
       "1               Yosemite National Park         136.0  \n",
       "2            Yellowstone National Park         259.0  \n",
       "3                  Bryce National Park          89.0  \n",
       "4                  Bryce National Park          94.0  "
      ]
     },
     "execution_count": 56,
     "metadata": {},
     "output_type": "execute_result"
    }
   ],
   "source": [
    "warbler_obs = pd.merge(warbler_info, obsers, how = 'left')\n",
    "warbler_obs[:5]"
   ]
  },
  {
   "cell_type": "code",
   "execution_count": 57,
   "metadata": {},
   "outputs": [
    {
     "data": {
      "text/html": [
       "<div>\n",
       "<style scoped>\n",
       "    .dataframe tbody tr th:only-of-type {\n",
       "        vertical-align: middle;\n",
       "    }\n",
       "\n",
       "    .dataframe tbody tr th {\n",
       "        vertical-align: top;\n",
       "    }\n",
       "\n",
       "    .dataframe thead th {\n",
       "        text-align: right;\n",
       "    }\n",
       "</style>\n",
       "<table border=\"1\" class=\"dataframe\">\n",
       "  <thead>\n",
       "    <tr style=\"text-align: right;\">\n",
       "      <th></th>\n",
       "      <th>park_name</th>\n",
       "      <th>need_protection</th>\n",
       "      <th>observations</th>\n",
       "    </tr>\n",
       "  </thead>\n",
       "  <tbody>\n",
       "    <tr>\n",
       "      <th>0</th>\n",
       "      <td>Bryce National Park</td>\n",
       "      <td>False</td>\n",
       "      <td>5565.0</td>\n",
       "    </tr>\n",
       "    <tr>\n",
       "      <th>1</th>\n",
       "      <td>Bryce National Park</td>\n",
       "      <td>True</td>\n",
       "      <td>195.0</td>\n",
       "    </tr>\n",
       "    <tr>\n",
       "      <th>2</th>\n",
       "      <td>Great Smoky Mountains National Park</td>\n",
       "      <td>False</td>\n",
       "      <td>4290.0</td>\n",
       "    </tr>\n",
       "    <tr>\n",
       "      <th>3</th>\n",
       "      <td>Great Smoky Mountains National Park</td>\n",
       "      <td>True</td>\n",
       "      <td>145.0</td>\n",
       "    </tr>\n",
       "    <tr>\n",
       "      <th>4</th>\n",
       "      <td>Yellowstone National Park</td>\n",
       "      <td>False</td>\n",
       "      <td>13995.0</td>\n",
       "    </tr>\n",
       "    <tr>\n",
       "      <th>5</th>\n",
       "      <td>Yellowstone National Park</td>\n",
       "      <td>True</td>\n",
       "      <td>492.0</td>\n",
       "    </tr>\n",
       "    <tr>\n",
       "      <th>6</th>\n",
       "      <td>Yosemite National Park</td>\n",
       "      <td>False</td>\n",
       "      <td>8441.0</td>\n",
       "    </tr>\n",
       "    <tr>\n",
       "      <th>7</th>\n",
       "      <td>Yosemite National Park</td>\n",
       "      <td>True</td>\n",
       "      <td>271.0</td>\n",
       "    </tr>\n",
       "  </tbody>\n",
       "</table>\n",
       "</div>"
      ],
      "text/plain": [
       "                             park_name  need_protection  observations\n",
       "0                  Bryce National Park            False        5565.0\n",
       "1                  Bryce National Park             True         195.0\n",
       "2  Great Smoky Mountains National Park            False        4290.0\n",
       "3  Great Smoky Mountains National Park             True         145.0\n",
       "4            Yellowstone National Park            False       13995.0\n",
       "5            Yellowstone National Park             True         492.0\n",
       "6               Yosemite National Park            False        8441.0\n",
       "7               Yosemite National Park             True         271.0"
      ]
     },
     "execution_count": 57,
     "metadata": {},
     "output_type": "execute_result"
    }
   ],
   "source": [
    "warbler_obs_by_park = warbler_obs.groupby(['park_name','need_protection']).observations.sum().reset_index()\n",
    "warbler_obs_by_park"
   ]
  },
  {
   "cell_type": "markdown",
   "metadata": {},
   "source": [
    "#### Most of Warblers don't need to be concerned  "
   ]
  },
  {
   "cell_type": "code",
   "execution_count": 58,
   "metadata": {},
   "outputs": [
    {
     "data": {
      "text/plain": [
       "Text(0, 0.5, 'Number of observation')"
      ]
     },
     "execution_count": 58,
     "metadata": {},
     "output_type": "execute_result"
    },
    {
     "data": {
      "text/plain": [
       "<Figure size 432x288 with 0 Axes>"
      ]
     },
     "metadata": {},
     "output_type": "display_data"
    },
    {
     "data": {
      "image/png": "[encoded data removed]",
      "text/plain": [
       "<Figure size 1152x720 with 1 Axes>"
      ]
     },
     "metadata": {
      "needs_background": "light"
     },
     "output_type": "display_data"
    }
   ],
   "source": [
    "plt.clf()\n",
    "plt.figure(figsize = (16,10))\n",
    "sns.barplot(data = warbler_obs_by_park, x = 'park_name', y = 'observations', hue = 'need_protection')\n",
    "plt.title('Observations of Warbler per week')\n",
    "plt.xlabel('Park Name')\n",
    "plt.ylabel('Number of observation')"
   ]
  },
  {
   "cell_type": "markdown",
   "metadata": {},
   "source": [
    "#### The same to Moss for Plants"
   ]
  },
  {
   "cell_type": "code",
   "execution_count": 59,
   "metadata": {},
   "outputs": [
    {
     "data": {
      "text/html": [
       "<div>\n",
       "<style scoped>\n",
       "    .dataframe tbody tr th:only-of-type {\n",
       "        vertical-align: middle;\n",
       "    }\n",
       "\n",
       "    .dataframe tbody tr th {\n",
       "        vertical-align: top;\n",
       "    }\n",
       "\n",
       "    .dataframe thead th {\n",
       "        text-align: right;\n",
       "    }\n",
       "</style>\n",
       "<table border=\"1\" class=\"dataframe\">\n",
       "  <thead>\n",
       "    <tr style=\"text-align: right;\">\n",
       "      <th></th>\n",
       "      <th>word</th>\n",
       "      <th>counts</th>\n",
       "      <th>kind</th>\n",
       "    </tr>\n",
       "  </thead>\n",
       "  <tbody>\n",
       "    <tr>\n",
       "      <th>0</th>\n",
       "      <td>Moss</td>\n",
       "      <td>280</td>\n",
       "      <td>Nonvascular Plant</td>\n",
       "    </tr>\n",
       "    <tr>\n",
       "      <th>1</th>\n",
       "      <td>Sedge</td>\n",
       "      <td>221</td>\n",
       "      <td>Vascular Plant</td>\n",
       "    </tr>\n",
       "    <tr>\n",
       "      <th>2</th>\n",
       "      <td>Mountain</td>\n",
       "      <td>121</td>\n",
       "      <td>Vascular Plant</td>\n",
       "    </tr>\n",
       "    <tr>\n",
       "      <th>3</th>\n",
       "      <td>Grass</td>\n",
       "      <td>102</td>\n",
       "      <td>Vascular Plant</td>\n",
       "    </tr>\n",
       "    <tr>\n",
       "      <th>4</th>\n",
       "      <td>Common</td>\n",
       "      <td>100</td>\n",
       "      <td>Vascular Plant</td>\n",
       "    </tr>\n",
       "    <tr>\n",
       "      <th>5</th>\n",
       "      <td>Western</td>\n",
       "      <td>81</td>\n",
       "      <td>Vascular Plant</td>\n",
       "    </tr>\n",
       "    <tr>\n",
       "      <th>6</th>\n",
       "      <td>White</td>\n",
       "      <td>81</td>\n",
       "      <td>Vascular Plant</td>\n",
       "    </tr>\n",
       "    <tr>\n",
       "      <th>7</th>\n",
       "      <td>Yellow</td>\n",
       "      <td>67</td>\n",
       "      <td>Vascular Plant</td>\n",
       "    </tr>\n",
       "    <tr>\n",
       "      <th>8</th>\n",
       "      <td>American</td>\n",
       "      <td>65</td>\n",
       "      <td>Vascular Plant</td>\n",
       "    </tr>\n",
       "    <tr>\n",
       "      <th>9</th>\n",
       "      <td>Sierra</td>\n",
       "      <td>63</td>\n",
       "      <td>Vascular Plant</td>\n",
       "    </tr>\n",
       "  </tbody>\n",
       "</table>\n",
       "</div>"
      ],
      "text/plain": [
       "       word  counts               kind\n",
       "0      Moss     280  Nonvascular Plant\n",
       "1     Sedge     221     Vascular Plant\n",
       "2  Mountain     121     Vascular Plant\n",
       "3     Grass     102     Vascular Plant\n",
       "4    Common     100     Vascular Plant\n",
       "5   Western      81     Vascular Plant\n",
       "6     White      81     Vascular Plant\n",
       "7    Yellow      67     Vascular Plant\n",
       "8  American      65     Vascular Plant\n",
       "9    Sierra      63     Vascular Plant"
      ]
     },
     "execution_count": 59,
     "metadata": {},
     "output_type": "execute_result"
    }
   ],
   "source": [
    "df[df.kind.isin(plants)][:10]"
   ]
  },
  {
   "cell_type": "code",
   "execution_count": 60,
   "metadata": {},
   "outputs": [
    {
     "data": {
      "text/html": [
       "<div>\n",
       "<style scoped>\n",
       "    .dataframe tbody tr th:only-of-type {\n",
       "        vertical-align: middle;\n",
       "    }\n",
       "\n",
       "    .dataframe tbody tr th {\n",
       "        vertical-align: top;\n",
       "    }\n",
       "\n",
       "    .dataframe thead th {\n",
       "        text-align: right;\n",
       "    }\n",
       "</style>\n",
       "<table border=\"1\" class=\"dataframe\">\n",
       "  <thead>\n",
       "    <tr style=\"text-align: right;\">\n",
       "      <th></th>\n",
       "      <th>park_name</th>\n",
       "      <th>need_protection</th>\n",
       "      <th>observations</th>\n",
       "    </tr>\n",
       "  </thead>\n",
       "  <tbody>\n",
       "    <tr>\n",
       "      <th>0</th>\n",
       "      <td>Bryce National Park</td>\n",
       "      <td>False</td>\n",
       "      <td>28531.0</td>\n",
       "    </tr>\n",
       "    <tr>\n",
       "      <th>1</th>\n",
       "      <td>Bryce National Park</td>\n",
       "      <td>True</td>\n",
       "      <td>270.0</td>\n",
       "    </tr>\n",
       "    <tr>\n",
       "      <th>2</th>\n",
       "      <td>Great Smoky Mountains National Park</td>\n",
       "      <td>False</td>\n",
       "      <td>21362.0</td>\n",
       "    </tr>\n",
       "    <tr>\n",
       "      <th>3</th>\n",
       "      <td>Great Smoky Mountains National Park</td>\n",
       "      <td>True</td>\n",
       "      <td>174.0</td>\n",
       "    </tr>\n",
       "    <tr>\n",
       "      <th>4</th>\n",
       "      <td>Yellowstone National Park</td>\n",
       "      <td>False</td>\n",
       "      <td>71601.0</td>\n",
       "    </tr>\n",
       "    <tr>\n",
       "      <th>5</th>\n",
       "      <td>Yellowstone National Park</td>\n",
       "      <td>True</td>\n",
       "      <td>679.0</td>\n",
       "    </tr>\n",
       "    <tr>\n",
       "      <th>6</th>\n",
       "      <td>Yosemite National Park</td>\n",
       "      <td>False</td>\n",
       "      <td>42948.0</td>\n",
       "    </tr>\n",
       "    <tr>\n",
       "      <th>7</th>\n",
       "      <td>Yosemite National Park</td>\n",
       "      <td>True</td>\n",
       "      <td>414.0</td>\n",
       "    </tr>\n",
       "  </tbody>\n",
       "</table>\n",
       "</div>"
      ],
      "text/plain": [
       "                             park_name  need_protection  observations\n",
       "0                  Bryce National Park            False       28531.0\n",
       "1                  Bryce National Park             True         270.0\n",
       "2  Great Smoky Mountains National Park            False       21362.0\n",
       "3  Great Smoky Mountains National Park             True         174.0\n",
       "4            Yellowstone National Park            False       71601.0\n",
       "5            Yellowstone National Park             True         679.0\n",
       "6               Yosemite National Park            False       42948.0\n",
       "7               Yosemite National Park             True         414.0"
      ]
     },
     "execution_count": 60,
     "metadata": {},
     "output_type": "execute_result"
    }
   ],
   "source": [
    "moss_info = spec_info[spec_info.common_names.str.contains(r\"\\bMoss\\b\", regex = True)]\n",
    "moss_obs = pd.merge(moss_info, obsers, how = 'left')\n",
    "moss_obs_by_park = moss_obs.groupby(['park_name','need_protection']).observations.sum().reset_index()\n",
    "moss_obs_by_park"
   ]
  },
  {
   "cell_type": "code",
   "execution_count": 61,
   "metadata": {},
   "outputs": [
    {
     "data": {
      "text/plain": [
       "Text(0, 0.5, 'Number of observation')"
      ]
     },
     "execution_count": 61,
     "metadata": {},
     "output_type": "execute_result"
    },
    {
     "data": {
      "text/plain": [
       "<Figure size 432x288 with 0 Axes>"
      ]
     },
     "metadata": {},
     "output_type": "display_data"
    },
    {
     "data": {
      "image/png": "[encoded data removed]",
      "text/plain": [
       "<Figure size 1152x720 with 1 Axes>"
      ]
     },
     "metadata": {
      "needs_background": "light"
     },
     "output_type": "display_data"
    }
   ],
   "source": [
    "plt.clf()\n",
    "plt.figure(figsize = (16,10))\n",
    "sns.barplot(data = moss_obs_by_park, x = 'park_name', y = 'observations', hue = 'need_protection')\n",
    "plt.title('Observations of Moss per week')\n",
    "plt.xlabel('Park Name')\n",
    "plt.ylabel('Number of observation')"
   ]
  },
  {
   "cell_type": "markdown",
   "metadata": {},
   "source": [
    "## Conclusions\n",
    "\n",
    "The project was able to make several data visualizations and inferences about the various species in four of the National Parks that comprised this data set.\n",
    "\n",
    "This project was also able to answer some of the questions first posed in the beginning:\n",
    "\n",
    "- What is the distribution of conservation status for species?\n",
    "    - The vast majority of species were not part of conservation.(5,633 vs 191)\n",
    "- Are certain types of species more likely to be endangered?\n",
    "    - Mammals and Birds had the highest percentage of being in protection.\n",
    "- Are the differences between species and their conservation status significant?\n",
    "    - Yes, there are differences. Moreover, vascular plants and birds have highest rate of need conservation due to majority of species in concern.\n",
    "- Which animal and plant are most prevalent and what are their distribution amongst parks?\n",
    "    - Warbler and Moss have the highest occurence rate of all animals, plats respectively and mostly observed at Yellowstone. \n"
   ]
  }
 ],
 "metadata": {
  "kernelspec": {
   "display_name": "Python 3",
   "language": "python",
   "name": "python3"
  },
  "language_info": {
   "codemirror_mode": {
    "name": "ipython",
    "version": 3
   },
   "file_extension": ".py",
   "mimetype": "text/x-python",
   "name": "python",
   "nbconvert_exporter": "python",
   "pygments_lexer": "ipython3",
   "version": "3.8.6rc1"
  }
 },
 "nbformat": 4,
 "nbformat_minor": 4
}
